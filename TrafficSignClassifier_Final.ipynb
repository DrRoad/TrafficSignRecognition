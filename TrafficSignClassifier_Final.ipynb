{
 "cells": [
  {
   "cell_type": "markdown",
   "metadata": {},
   "source": [
    "# Model for Traffic Sign Classifier\n",
    "## Step 1: Load all modules that are necessary ##"
   ]
  },
  {
   "cell_type": "code",
   "execution_count": 74,
   "metadata": {
    "scrolled": true
   },
   "outputs": [],
   "source": [
    "####### Module to retrieve pickled data######\n",
    "import pickle\n",
    "from sklearn.utils import shuffle\n",
    "\n",
    "########## Plotting Data ########\n",
    "import matplotlib.pyplot as plt\n",
    "import matplotlib.gridspec as gridspec\n",
    "from IPython.display import display, HTML\n",
    "from tqdm import trange\n",
    "import time\n",
    "from datetime import datetime\n",
    "from PreProcessing import load_data, preprocess_data, images_show\n",
    "\n",
    "###### Visualizing DataFrame ########\n",
    "import pandas as pd\n",
    "\n",
    "####### Image Operations ###########\n",
    "from skimage import img_as_ubyte\n",
    "from skimage import img_as_float\n",
    "import cv2\n",
    "\n",
    "####### Mathematical & Array Operations #########\n",
    "import numpy as np\n",
    "import math\n",
    "from random import randint\n",
    "from collections import namedtuple\n",
    "\n",
    "# Tensor FLow for Neural Network Frameworks\n",
    "import tensorflow as tf\n",
    "from tensorflow.contrib.layers import flatten\n",
    "from tensorflow.contrib.layers import apply_regularization\n",
    "from tensorflow.contrib.layers import l1_regularizer\n",
    "from tensorflow.contrib.layers import xavier_initializer\n",
    "from spatial_transformer import transformer"
   ]
  },
  {
   "cell_type": "markdown",
   "metadata": {},
   "source": [
    "## Step 2: PreProcess Data and Visualize it ##"
   ]
  },
  {
   "cell_type": "code",
   "execution_count": null,
   "metadata": {},
   "outputs": [
    {
     "name": "stdout",
     "output_type": "stream",
     "text": [
      "Data and Modules loaded\n",
      "Scaling Start\n",
      "Scaling all features between -1 and 1\n",
      "Scaling Complete\n",
      "Extending Dataset\n",
      "Dataset Extended based on Flipping, Mirroring 0-180 Degrees\n",
      "Data Augmentation Started\n"
     ]
    },
    {
     "name": "stderr",
     "output_type": "stream",
     "text": [
      "\r",
      "  0%|          | 0/43 [00:00<?, ?it/s]"
     ]
    },
    {
     "name": "stdout",
     "output_type": "stream",
     "text": [
      "Augmenting Data for Class Number: 0\n"
     ]
    },
    {
     "name": "stderr",
     "output_type": "stream",
     "text": [
      "\r",
      "  2%|▏         | 1/43 [00:12<08:49, 12.60s/it]"
     ]
    },
    {
     "name": "stdout",
     "output_type": "stream",
     "text": [
      "Augmenting Data for Class Number: 1\n",
      "Augmenting Data for Class Number: 2\n",
      "Augmenting Data for Class Number: 3\n"
     ]
    }
   ],
   "source": [
    "preprocess_data('train.pickle', 'train_aug.pickle', is_scale=True, is_extend=True, is_augment=True, sample_size=2000, intensity_factor=0.75, is_balance=True)\n",
    "preprocess_data('valid.pickle', 'valid_aug.pickle', is_scale=True)\n",
    "preprocess_data('test.pickle', 'test_aug.pickle', is_scale=True)"
   ]
  },
  {
   "cell_type": "markdown",
   "metadata": {},
   "source": [
    "----\n",
    "\n",
    "## Step 2: Design and Test a Model Architecture\n",
    "\n",
    "Design and implement a deep learning model that learns to recognize traffic signs. Train and test your model on the [German Traffic Sign Dataset](http://benchmark.ini.rub.de/?section=gtsrb&subsection=dataset).\n",
    "\n",
    "There are various aspects to consider when thinking about this problem:\n",
    "\n",
    "- Neural network architecture\n",
    "- Play around preprocessing techniques (normalization, rgb to grayscale, etc)\n",
    "- Number of examples per label (some have more than others).\n",
    "- Generate fake data.\n",
    "\n",
    "Here is an example of a [published baseline model on this problem](http://yann.lecun.com/exdb/publis/pdf/sermanet-ijcnn-11.pdf). It's not required to be familiar with the approach used in the paper but, it's good practice to try to read papers like these.\n",
    "\n",
    "**NOTE:** The LeNet-5 implementation shown in the [classroom](https://classroom.udacity.com/nanodegrees/nd013/parts/fbf77062-5703-404e-b60c-95b78b2f3f9e/modules/6df7ae49-c61c-4bb2-a23e-6527e69209ec/lessons/601ae704-1035-4287-8b11-e2c2716217ad/concepts/d4aca031-508f-4e0b-b493-e7b706120f81) at the end of the CNN lesson is a solid starting point. You'll have to change the number of classes and possibly the preprocessing, but aside from that it's plug and play!"
   ]
  },
  {
   "cell_type": "markdown",
   "metadata": {},
   "source": [
    "### Modified LeNet Architecture With FeedForward and FeedBack Loops and Spatial Transform Based Architecture\n"
   ]
  },
  {
   "cell_type": "code",
   "execution_count": null,
   "metadata": {
    "collapsed": true
   },
   "outputs": [],
   "source": [
    "def variable_summaries(var):\n",
    "    \"\"\"Attach a lot of summaries to a Tensor (for TensorBoard visualization).\"\"\"\n",
    "    with tf.name_scope('summaries'):\n",
    "        mean = tf.reduce_mean(var)\n",
    "        tf.summary.scalar('mean', mean)\n",
    "        with tf.name_scope('stddev'):\n",
    "            stddev = tf.sqrt(tf.reduce_mean(tf.square(var - mean)))\n",
    "        tf.summary.scalar('stddev', stddev)\n",
    "        tf.summary.scalar('max', tf.reduce_max(var))\n",
    "        tf.summary.scalar('min', tf.reduce_min(var))\n",
    "        tf.summary.histogram('histogram', var)\n",
    "\n",
    "tf.reset_default_graph()\n",
    "########## Graph Inputs #########################\n",
    "x = tf.placeholder(tf.float32, (None, 32, 32, 3))\n",
    "y = tf.placeholder(tf.int64, (None))\n",
    "num_classes = 43\n",
    "reg_fac = tf.placeholder(tf.float32, None)\n",
    "rate = tf.placeholder(tf.float32, None)\n",
    "is_training = tf.placeholder(tf.bool, None)"
   ]
  },
  {
   "cell_type": "markdown",
   "metadata": {},
   "source": [
    "### Basic Elements of the VGG Network\n",
    "- ** Batch Normalization Layer ** For faster and better training \n",
    "- **Param Relu** For solving Dead Linear Rectifier issue during training\n",
    "- **Convolution Layer** With Parametric Relay Activation - Weights and Biases Initialization - Xavier Scheme\n",
    "- **Fully Connected Layer** With Fully Connected Dense Layers - Weights and Biases Initialization - Xavier Scheme\n",
    "- ** Pooling Layer** Max Pool 2D Operation"
   ]
  },
  {
   "cell_type": "code",
   "execution_count": null,
   "metadata": {
    "collapsed": true
   },
   "outputs": [],
   "source": [
    "############################# Batch Normalization Layer ##################\n",
    "def batch_norm(input_, name, n_out, phase_train):\n",
    "    with tf.variable_scope(name + 'bn'):\n",
    "        beta = tf.Variable(tf.constant(\n",
    "            0.0, shape=[n_out]), name=name + 'beta', trainable=True)\n",
    "        gamma = tf.Variable(tf.constant(\n",
    "            1.0, shape=[n_out]), name=name + 'gamma', trainable=True)\n",
    "        if len(input_.get_shape().as_list()) > 3:\n",
    "            batch_mean, batch_var = tf.nn.moments(\n",
    "                input_, [0, 1, 2], name=name + 'moments')\n",
    "        else:\n",
    "            batch_mean, batch_var = tf.nn.moments(\n",
    "                input_, [0, 1], name=name + 'moments')\n",
    "        ema = tf.train.ExponentialMovingAverage(decay=0.5)\n",
    "\n",
    "        def mean_var_with_update():\n",
    "            ema_apply_op = ema.apply([batch_mean, batch_var])\n",
    "            with tf.control_dependencies([ema_apply_op]):\n",
    "                return tf.identity(batch_mean), tf.identity(batch_var)\n",
    "\n",
    "        mean, var = tf.cond(phase_train, mean_var_with_update, lambda: (\n",
    "            ema.average(batch_mean), ema.average(batch_var)))\n",
    "        normed = tf.nn.batch_normalization(\n",
    "            input_, mean, var, beta, gamma, 1e-3)\n",
    "\n",
    "    variable_summaries(beta)\n",
    "    variable_summaries(gamma)\n",
    "    return normed\n",
    "\n",
    "############################## Parametric ReLU Activation  Layer #########\n",
    "\n",
    "\n",
    "def parametric_relu(input_, name):\n",
    "    alpha = tf.get_variable(name=name + '_alpha', shape=input_.get_shape(\n",
    "    )[-1], initializer=tf.random_uniform_initializer(minval=0.1, maxval=0.3), dtype=tf.float32)\n",
    "    pos = tf.nn.relu(input_)\n",
    "    tf.summary.histogram(name, pos)\n",
    "    neg = alpha * (input_ - abs(input_)) * 0.5\n",
    "    return pos + neg\n",
    "\n",
    "\n",
    "# Convolutional Layer with activation and batc\n",
    "def conv(input_, name, k1, k2, n_o, reg_fac, is_tr, s1=1, s2=1, is_act=True, is_bn=True, padding='SAME'):\n",
    "\n",
    "    n_i = input_.get_shape()[-1].value\n",
    "    with tf.variable_scope(name):\n",
    "        weights = tf.get_variable(name + \"weights\", [k1, k2, n_i, n_o], tf.float32, xavier_initializer(\n",
    "        ), regularizer=tf.contrib.layers.l2_regularizer(reg_fac))\n",
    "        biases = tf.get_variable(name +\n",
    "                                 \"bias\", [n_o], tf.float32, tf.constant_initializer(0.0))\n",
    "        conv = tf.nn.conv2d(input_, weights, (1, s1, s2, 1), padding=padding)\n",
    "        bn = batch_norm(conv, name, n_o, is_tr) if is_bn else conv\n",
    "        activation = parametric_relu(tf.nn.bias_add(\n",
    "            bn, biases), name + \"activation\") if is_act else tf.nn.bias_add(bn, biases)\n",
    "        variable_summaries(weights)\n",
    "        variable_summaries(biases)\n",
    "    return activation\n",
    "\n",
    "# Fully connected Layer with activation and ba\n",
    "\n",
    "\n",
    "def fc(input_, name, n_o, reg_fac, is_tr, p_fc, is_act=True, is_bn=True):\n",
    "    n_i = input_.get_shape()[-1].value\n",
    "    with tf.variable_scope(name):\n",
    "        weights = tf.get_variable(name + \"weights\", [n_i, n_o], tf.float32, xavier_initializer(\n",
    "        ),  regularizer=tf.contrib.layers.l2_regularizer(reg_fac))\n",
    "        biases = tf.get_variable(\n",
    "            name + \"bias\", [n_o], tf.float32, tf.constant_initializer(0.0))\n",
    "        bn = tf.nn.bias_add(tf.matmul(input_, weights), biases)\n",
    "        activation = batch_norm(bn, name, n_o, is_tr) if is_bn else bn\n",
    "        logits = parametric_relu(\n",
    "            activation, name + \"activation\") if is_act else activation\n",
    "        \n",
    "        variable_summaries(weights)\n",
    "        variable_summaries(biases)\n",
    "\n",
    "    return tf.cond(is_tr, lambda: tf.nn.dropout(logits, keep_prob=p_fc), lambda: logits)\n",
    "\n",
    "############################# Max Pooling Layer with activation ##########\n",
    "\n",
    "\n",
    "def pool(input_, name, k1, k2, s1=2, s2=2):\n",
    "    return tf.nn.max_pool(input_, ksize=[1, k1, k2, 1], strides=[1, s1, s2, 1], padding='VALID', name=name)"
   ]
  },
  {
   "cell_type": "markdown",
   "metadata": {},
   "source": [
    "## Spatial Transformer Layer :\n",
    "The spatial transformation layer consists of a localization layer and an affine transformation layer\n",
    "\n",
    "### Localization layer\n",
    "* 7x7  Convolution Filter \n",
    "* 5x5 Convolution Filter \n",
    "* 3x3 Convolution Filter \n",
    "* 128 Dense Layer \n",
    "* 64 Dense Layer \n",
    "* 6 for Identity Transform \n",
    "\n",
    "### Affine Transformation "
   ]
  },
  {
   "cell_type": "code",
   "execution_count": null,
   "metadata": {
    "collapsed": true
   },
   "outputs": [],
   "source": [
    "############################# Localization Layer for Spatial Transformer L\n",
    "def localization_net(input_, name, is_tr, reg_fac):\n",
    "    # Identity transformation\n",
    "    initial = np.array([[1., 0, 0], [0, 1., 0]])\n",
    "    initial = initial.astype('float32')\n",
    "    initial = initial.flatten()\n",
    "    # Weight and Bias containing the identity transformation\n",
    "    W = tf.get_variable('loc_weights', [64, 6], tf.float32, xavier_initializer(\n",
    "    ), regularizer=tf.contrib.layers.l2_regularizer(reg_fac))\n",
    "    b = tf.Variable(initial_value=initial, name='loc_bias')\n",
    "\n",
    "    ############ Localization Network for the Spatial transformer network ####\n",
    "    ##################### 7x7x16 Conv -> 2x2 Max pooling ###################\n",
    "    locnet = conv(input_, name=\"locnet_conv1\", k1=5, k2=5, n_o=16,\n",
    "                  reg_fac=reg_fac, is_tr=is_tr, padding='VALID')\n",
    "    locnet = pool(locnet, name=\"locnet_pool1\", k1=2, k2=2)\n",
    "\n",
    "    ###################### 5x5x32 Conv -> 2x2 Max pooling ###################\n",
    "    locnet = conv(locnet, name=\"locnet_conv2\", k1=3, k2=3, n_o=32,\n",
    "                  reg_fac=reg_fac, is_tr=is_tr, padding='VALID')\n",
    "    locnet = pool(locnet, name=\"locnet_pool2\", k1=2, k2=2)\n",
    "\n",
    "    ###################### 3x3x64 Conv -> 2x2 Max pooling ####################\n",
    "    locnet = conv(locnet, name=\"locnet_conv3\", k1=1, k2=1, n_o=64,\n",
    "                  reg_fac=reg_fac, is_tr=is_tr, padding='VALID')\n",
    "    locnet = pool(locnet, name=\"locnet_pool3\", k1=2, k2=2)\n",
    "\n",
    "    ####################### Fully Connected Layers ###########################\n",
    "    locnet_fc0 = flatten(locnet)\n",
    "    locnet_fc1 = fc(locnet_fc0, name=\"locnet_fc1\", n_o=128,\n",
    "                    reg_fac=reg_fac, is_tr=is_tr, p_fc=1.0)\n",
    "    locnet_fc2 = fc(locnet_fc1, name=\"locnet_fc2\", n_o=64,\n",
    "                    reg_fac=reg_fac, is_tr=is_tr, p_fc=1.0)\n",
    "    locnet_op = tf.nn.bias_add(tf.matmul(locnet_fc2, W), b)\n",
    "\n",
    "    return locnet_op"
   ]
  },
  {
   "cell_type": "markdown",
   "metadata": {},
   "source": [
    "### VGG Layer\n",
    "- 2 Back to Back **Convolutions** of same Kernel Size and Strides and Padding as specified by the user\n",
    "- 1 **Pooling** Layer.\n",
    "- 1 **Dropout** Layer"
   ]
  },
  {
   "cell_type": "code",
   "execution_count": null,
   "metadata": {
    "collapsed": true
   },
   "outputs": [],
   "source": [
    "def VGG_Layer(input_, name, conv_size, pool_size, n_o, reg_fac, is_tr, p_vgg):\n",
    "\n",
    "    n_i = input_.get_shape()[-1].value\n",
    "    c_k1 = conv_size\n",
    "    c_k2 = conv_size\n",
    "    p_k1 = pool_size\n",
    "    p_k2 = pool_size\n",
    "\n",
    "    ############## VGG Building Block ###############################\n",
    "    ############## 2 - Conv , 1- Pool 1- Dropout 1 - Batch-Norm ##############\n",
    "    vgg = conv(input_, name=name + \"conv1_1\", k1=c_k1,\n",
    "               k2=c_k2, n_o=n_o, reg_fac=reg_fac, is_tr=is_tr)\n",
    "    vgg = conv(vgg, name=name + \"conv1_2\", k1=c_k1, k2=c_k2,\n",
    "               n_o=n_o, reg_fac=reg_fac, is_tr=is_tr)\n",
    "    vgg = pool(vgg, name=name + \"pool1\", k1=p_k1, k2=p_k2)\n",
    "    vgg = tf.cond(is_tr, lambda: tf.nn.dropout(\n",
    "        vgg, keep_prob=p_vgg), lambda: vgg)\n",
    "    return vgg"
   ]
  },
  {
   "cell_type": "markdown",
   "metadata": {},
   "source": [
    "### Model definition\n",
    "#### Number of Layers:\n",
    "- *3* **VGG** Layers\n",
    "    - First VGG Layer extracts 64 Feature Maps\n",
    "    - Second VGG Layer extracts 128 Feature Maps\n",
    "    - Third VGG Layer extracts 256 Feature Maps\n",
    "- *2* **FC** Layers\n",
    "    - Fully Connected Layers 512 Hidden Units\n",
    "    - To 43 Units dependent on the number of classes\n",
    "\n",
    "#### Reason for Choosing Architecture:\n",
    "- LeNet acrhitecture provides 96.5% test accuracy \n",
    "- To get the extra 2% accuracy on the model."
   ]
  },
  {
   "cell_type": "code",
   "execution_count": null,
   "metadata": {
    "collapsed": true,
    "scrolled": true
   },
   "outputs": [],
   "source": [
    "def run_model(input_, num_classes, params, reg_fac, is_training):\n",
    "\n",
    "    ############## Spatial Transformer Module ######################\n",
    "    ##################### Localization layer #######################\n",
    "    locnet = localization_net(input_, name=\"locnet\",\n",
    "                              reg_fac=reg_fac, is_tr=is_training)\n",
    "    ####################### Affine Transformation Layer ############\n",
    "    stn = transformer(input_, locnet, out_size=(32, 32, 3))\n",
    "    stn_= tf.reshape(stn,(-1,32,32,3))\n",
    "    ################################## VGG Net ###############################\n",
    "    ################################# VGG- Layer - 1 #########################\n",
    "    vgg1 = VGG_Layer(stn_, \"vgg1\", conv_size=3, pool_size=2, n_o=32,\n",
    "                     reg_fac=reg_fac, is_tr=is_training, p_vgg=params.vgg1)\n",
    "    ################################# VGG- Layer - 2 #########################\n",
    "    vgg2 = VGG_Layer(vgg1, \"vgg2\", conv_size=3, pool_size=2, n_o=64,\n",
    "                     reg_fac=reg_fac, is_tr=is_training, p_vgg=params.vgg2)\n",
    "    ################################# VGG- Layer - 3 #########################\n",
    "    vgg3 = VGG_Layer(vgg2, \"vgg3\", conv_size=3, pool_size=2, n_o=128,\n",
    "                     reg_fac=reg_fac, is_tr=is_training, p_vgg=params.vgg3)\n",
    "    ################################# VGG- Layer - 4 #########################\n",
    "    vgg4 = VGG_Layer(vgg3, \"vgg4\", conv_size=3, pool_size=2, n_o=256,\n",
    "                     reg_fac=reg_fac, is_tr=is_training, p_vgg=params.vgg4)\n",
    "\n",
    "    \n",
    "    ################################ Multi Scale Convolution layer ###########\n",
    "    ms1 = pool(vgg2, \"ms1\", k1=5, k2=5)\n",
    "    ms2 = pool(vgg3, \"ms2\", k1=2, k2=2)\n",
    "    ms = tf.concat([ms1, ms2, vgg4], axis=3)\n",
    "    ms = conv(ms, \"ms\", k1=1, k2=1, n_o=512, reg_fac=reg_fac,\n",
    "              is_tr=is_training, padding='VALID')\n",
    "    ms = batch_norm(ms, \"ms\",512, is_training)\n",
    "    ms = parametric_relu(ms, \"ms\")\n",
    "    ms_drop = tf.cond(is_training, lambda: tf.nn.dropout(\n",
    "        ms, keep_prob=params.ms), lambda: ms)\n",
    "\n",
    "    ################## Fully Connected Layers for a Linear Classifier ########\n",
    "    #############################First Fully Connected Layer #################\n",
    "    fc0 = fc(flatten(ms_drop), \"fc0\", 1024, reg_fac=reg_fac,\n",
    "             is_tr=is_training, p_fc=params.fc0)\n",
    "    fc1 = fc(fc0, \"fc1\", 512, reg_fac=reg_fac,\n",
    "             is_tr=is_training, p_fc=params.fc1)\n",
    "    ########################### Output readout Layer #########################\n",
    "    fc2 = fc(fc1, \"fc2\", num_classes, reg_fac=reg_fac,\n",
    "             is_tr=is_training, p_fc=1.0, is_act=False, is_bn=True)\n",
    "\n",
    "    return fc2"
   ]
  },
  {
   "cell_type": "markdown",
   "metadata": {},
   "source": [
    "### Model Building with Hyper_params"
   ]
  },
  {
   "cell_type": "code",
   "execution_count": null,
   "metadata": {
    "collapsed": true
   },
   "outputs": [],
   "source": [
    "params = namedtuple('params', 'vgg1 vgg2 vgg3 vgg4 ms fc0 fc1')\n",
    "mdltype = params(vgg1=1.0, vgg2=1.0, vgg3=1.0, vgg4=1.0, ms=1.0, fc0=.5, fc1=.5)\n",
    "logits = run_model(x, num_classes, mdltype, reg_fac, is_training)\n",
    "tf.summary.histogram('Logits', logits)\n",
    "\n",
    "# For Top 5 Guesses\n",
    "prediction = tf.nn.softmax(logits)\n",
    "top5_guesses = tf.nn.top_k(prediction, k=5, sorted=True)\n",
    "\n",
    "\n",
    "# Predicted Label and Actual Label using Argmax\n",
    "y_pred = tf.argmax(logits, 1)\n",
    "\n",
    "# Accuracy Calculation\n",
    "correct_prediction = tf.equal(y_pred, y)\n",
    "accuracy_operation = tf.reduce_mean(tf.cast(correct_prediction, tf.float32))\n",
    "tf.summary.scalar('Accuracy', accuracy_operation)\n",
    "\n",
    "######### Cross Entropy and Loss for Training ##########\n",
    "cross_entropy = tf.nn.sparse_softmax_cross_entropy_with_logits(\n",
    "    logits=logits, labels=y, name='cross_entropy')\n",
    "loss_operation = tf.reduce_mean(\n",
    "    cross_entropy) + tf.add_n(tf.get_collection(tf.GraphKeys.REGULARIZATION_LOSSES))\n",
    "tf.summary.scalar('Loss', loss_operation)\n",
    "\n",
    "########### Training Step ################\n",
    "Train_Step = tf.train.AdamOptimizer(rate).minimize(loss_operation)\n",
    "summary = tf.summary.merge_all()"
   ]
  },
  {
   "cell_type": "code",
   "execution_count": null,
   "metadata": {
    "collapsed": true
   },
   "outputs": [],
   "source": [
    "def evaluate(X_data, y_data, batch_size, is_tr):\n",
    "    num_examples = len(X_data)\n",
    "    total_accuracy = 0\n",
    "    sess = tf.get_default_session()\n",
    "    for offset in range(0, num_examples, batch_size):\n",
    "        bx, by = X_data[offset:offset +\n",
    "                        batch_size], y_data[offset:offset + batch_size]\n",
    "        inputs_ = {x: bx, y: by, is_training: is_tr}\n",
    "        accuracy = sess.run(accuracy_operation, feed_dict=inputs_)\n",
    "        total_accuracy += (accuracy * len(bx))\n",
    "    return total_accuracy / num_examples"
   ]
  },
  {
   "cell_type": "markdown",
   "metadata": {},
   "source": [
    "### Model Hyper Parameter Definition\n",
    "- The Hyper Parameters are chosen based on search over 5 epochs\n",
    "#### Tuning Methodology\n",
    "\n",
    "- Xavier Initialization\n",
    "- **Early Stopping** - Restore Chkpt if the accuracy gains in validation don't meet requirements\n",
    "- **Hyper Parameter** Search over 5 Epcochs for Initial Tuning Hyper Params for best choice of hyper params \n",
    "    - Batch Sizes-100,200,300,500\n",
    "    - Learning rates- 1e-3,5e-4,4e-4,1e-4\n",
    "    - Regularization factor 1e-5,1e-4, 5e-4\n",
    "- **Learning rate annealing**,  **Batch size increment**, **Increase dropout rate**"
   ]
  },
  {
   "cell_type": "code",
   "execution_count": null,
   "metadata": {},
   "outputs": [],
   "source": [
    "training_file = 'train_aug.pickle'\n",
    "validation_file = 'valid_aug.pickle'\n",
    "testing_file = 'test_aug.pickle'\n",
    "X_train,y_train = load_data(training_file)\n",
    "X_valid,y_valid = load_data(validation_file)\n",
    "X_test,y_test = load_data(testing_file)"
   ]
  },
  {
   "cell_type": "code",
   "execution_count": null,
   "metadata": {
    "collapsed": true
   },
   "outputs": [],
   "source": [
    "BATCH_SIZE = 300\n",
    "EPOCHS = 10\n",
    "REG_FACTOR = 1e-5\n",
    "RATE = 1e-4\n",
    "save_file = \"VGGNet_12042017\"\n",
    "chkpt = './' + save_file\n",
    "logdir = chkpt + datetime.now().strftime('%Y%m%d-%H%M%S') + '/'"
   ]
  },
  {
   "cell_type": "code",
   "execution_count": null,
   "metadata": {
    "scrolled": true
   },
   "outputs": [],
   "source": [
    "init = tf.global_variables_initializer()\n",
    "saver = tf.train.Saver()\n",
    "sess = tf.Session()\n",
    "with sess.as_default():\n",
    "    sess.run(init)\n",
    "    ##################  Start Model Training  #######################\n",
    "    saver.restore(sess,chkpt)\n",
    "    summary_writer = tf.summary.FileWriter(logdir, sess.graph)\n",
    "    print(\"Training...\")\n",
    "    print()\n",
    "    val_acc = []\n",
    "    for i in range(EPOCHS):\n",
    "        \n",
    "        ############ Training Operation ################\n",
    "        Training_loss = 0\n",
    "        X_train, y_train = shuffle(X_train, y_train)\n",
    "        for offset in trange(0, len(X_train), BATCH_SIZE):\n",
    "            end = offset + BATCH_SIZE\n",
    "            batch_x, batch_y = X_train[offset:end], y_train[offset:end]\n",
    "            inputs = {x: batch_x, y: batch_y, reg_fac: REG_FACTOR,\n",
    "                      rate: RATE, is_training: True}\n",
    "            loss, _ = sess.run([loss_operation, Train_Step], feed_dict=inputs)\n",
    "            Training_loss += (loss * len(batch_x))\n",
    "\n",
    "        ################ Evaluation operation ####################\n",
    "        Validation_Accuracy = evaluate(X_valid, y_valid, 1000, is_tr=False)\n",
    "        val_acc.append(Validation_Accuracy)\n",
    "        Training_loss /= len(X_train)\n",
    "        print(\"Epochs:\", i + 1)\n",
    "        print(\"Training_Loss:\", Training_loss)\n",
    "        print(\"Validation_Accuracy:\", Validation_Accuracy)\n",
    "        \n",
    "        \n",
    "        ##### Save Model if the Validation accuracy gets better\n",
    "        if (max(val_acc) == Validation_Accuracy):\n",
    "            saver.save(sess, chkpt)\n",
    "            print(\"Intermediate Model Save\")\n",
    "            summary_str = sess.run(summary, feed_dict=inputs)\n",
    "            summary_writer.add_summary(summary_str, i)\n",
    "            \n",
    "print(\"Model saved\")"
   ]
  },
  {
   "cell_type": "markdown",
   "metadata": {},
   "source": [
    "### Train, Validate and Test the Model"
   ]
  },
  {
   "cell_type": "markdown",
   "metadata": {},
   "source": [
    "A validation set can be used to assess how well the model is performing. A low accuracy on the training and validation\n",
    "sets imply underfitting. A high accuracy on the training set but low accuracy on the validation set implies overfitting."
   ]
  },
  {
   "cell_type": "code",
   "execution_count": 43,
   "metadata": {},
   "outputs": [
    {
     "name": "stdout",
     "output_type": "stream",
     "text": [
      "Test Accuracy = 0.985\n"
     ]
    }
   ],
   "source": [
    "from sklearn.metrics import classification_report\n",
    "from sklearn.metrics import confusion_matrix\n",
    "saver=tf.train.Saver()\n",
    "with tf.Session() as sess:\n",
    "    saver.restore(sess,chkpt)\n",
    "    test_accuracy = evaluate(X_test, y_test, 500, False)\n",
    "    print(\"Test Accuracy = {:.3f}\".format(test_accuracy))"
   ]
  },
  {
   "cell_type": "code",
   "execution_count": 71,
   "metadata": {
    "collapsed": true
   },
   "outputs": [],
   "source": [
    "import matplotlib.gridspec as gridspec\n",
    "from skimage import exposure\n",
    "from skimage import img_as_ubyte\n",
    "from skimage import img_as_float\n",
    "import matplotlib.pyplot as plt\n",
    "import cv2\n",
    "import numpy as np\n",
    "import os\n",
    "import argparse\n",
    "from tensorflow.python.framework import graph_util\n",
    "\n",
    "\n",
    "def image_normalizer(X):\n",
    "    n_h=X.shape[0]\n",
    "    n_w=X.shape[1]\n",
    "    X= cv2.cvtColor(X, cv2.COLOR_BGR2RGB)\n",
    "    if (n_h !=32 or n_w!=32):\n",
    "        X= cv2.resize(X, (32, 32), interpolation = cv2.INTER_CUBIC)\n",
    "\n",
    "    X = (X / 255.).astype(np.float32)\n",
    "    return X\n",
    "\n",
    "\n",
    "    \n",
    "def visualize_predictions(images,image_names,top5_pred):\n",
    "    df=pd.read_csv('./'+'signnames.csv')\n",
    "    if (len(images.shape)==4 and (images.shape[3]!=3)):\n",
    "        images=np.reshape(images,(images.shape[0],images.shape[1],-1))\n",
    "\n",
    "    for i in range(len(images)):\n",
    "        plt.figure(figsize = (5,1.5))\n",
    "        gs = gridspec.GridSpec(1, 2,width_ratios=[2,3])\n",
    "        plt.subplot(gs[0])\n",
    "        plt.imshow(images[i],cmap='gray')\n",
    "        plt.axis('off')\n",
    "        plt.subplot(gs[1])\n",
    "        plt.barh(6-np.arange(5),top5_pred[0][0], align='center')\n",
    "        for i_label in range(5):\n",
    "            plt.text(top5_pred[0][0][i_label]+0.1,6-i_label-.25, df['SignName'][top5_pred[1][i][i_label]])\n",
    "        plt.axis('off');\n",
    "        plt.text(0,6.95,image_names[i].split('.')[0])\n",
    "        plt.show()    \n"
   ]
  },
  {
   "cell_type": "code",
   "execution_count": 72,
   "metadata": {
    "collapsed": true
   },
   "outputs": [],
   "source": [
    "###### Load Model and Open \n",
    "def run_model(images,image_names):\n",
    "    saver=tf.train.Saver()\n",
    "    with tf.Session() as sess:\n",
    "        saver.restore(sess, tf.train.latest_checkpoint('.'))\n",
    "        top5_pred = sess.run(top5_guesses, feed_dict={x:images,is_training: False})\n",
    "        print(top5_pred)\n",
    "    visualize_predictions(images,image_names,top5_pred)\n",
    "\n",
    "def test_classifier(img_path):\n",
    "    randomtestdata = [image_normalizer(cv2.imread(img_path+name,1)) for name in os.listdir(img_path) if (name.endswith('.png')  or name.endswith('.jpg'))]\n",
    "    namenewdata = [name for name in os.listdir(img_path) if ( name.endswith('.png') or name.endswith('.jpg') )]\n",
    "    rndtestint = img_as_float(randomtestdata)\n",
    "    images_show(rndtestint,1,len(namenewdata),rand=False)\n",
    "    run_model(rndtestint,namenewdata)"
   ]
  },
  {
   "cell_type": "markdown",
   "metadata": {},
   "source": [
    "---\n",
    "\n",
    "## Step 3: Test a Model on New Images\n",
    "\n",
    "To give yourself more insight into how your model is working, download at least five pictures of German traffic signs from the web and use your model to predict the traffic sign type.\n",
    "\n",
    "You may find `signnames.csv` useful as it contains mappings from the class id (integer) to the actual sign name."
   ]
  },
  {
   "cell_type": "markdown",
   "metadata": {},
   "source": [
    "### Load and Output the Images"
   ]
  },
  {
   "cell_type": "markdown",
   "metadata": {},
   "source": [
    "### Predict the Sign Type for Each Image"
   ]
  },
  {
   "cell_type": "code",
   "execution_count": 73,
   "metadata": {},
   "outputs": [
    {
     "data": {
      "image/png": "[encoded data removed]",
      "text/plain": [
       "<matplotlib.figure.Figure at 0x7fdd2011ee48>"
      ]
     },
     "metadata": {},
     "output_type": "display_data"
    },
    {
     "name": "stdout",
     "output_type": "stream",
     "text": [
      "TopKV2(values=array([[ 0.04757207,  0.04433062,  0.04298289,  0.0429612 ,  0.04249519],\n",
      "       [ 0.04757207,  0.04433062,  0.04298289,  0.0429612 ,  0.04249519],\n",
      "       [ 0.04757207,  0.04433062,  0.04298289,  0.0429612 ,  0.04249519],\n",
      "       [ 0.04757207,  0.04433062,  0.04298289,  0.0429612 ,  0.04249519],\n",
      "       [ 0.04757207,  0.04433062,  0.04298289,  0.0429612 ,  0.04249519],\n",
      "       [ 0.04757207,  0.04433062,  0.04298289,  0.0429612 ,  0.04249519],\n",
      "       [ 0.04757207,  0.04433062,  0.04298289,  0.0429612 ,  0.04249519]], dtype=float32), indices=array([[ 0, 41, 21, 27, 29],\n",
      "       [ 0, 41, 21, 27, 29],\n",
      "       [ 0, 41, 21, 27, 29],\n",
      "       [ 0, 41, 21, 27, 29],\n",
      "       [ 0, 41, 21, 27, 29],\n",
      "       [ 0, 41, 21, 27, 29],\n",
      "       [ 0, 41, 21, 27, 29]], dtype=int32))\n"
     ]
    },
    {
     "data": {
      "image/png": "[encoded data removed]",
      "text/plain": [
       "<matplotlib.figure.Figure at 0x7fdd200c4c50>"
      ]
     },
     "metadata": {},
     "output_type": "display_data"
    },
    {
     "data": {
      "image/png": "[encoded data removed]",
      "text/plain": [
       "<matplotlib.figure.Figure at 0x7fdd1ad1fa20>"
      ]
     },
     "metadata": {},
     "output_type": "display_data"
    },
    {
     "data": {
      "image/png": "[encoded data removed]",
      "text/plain": [
       "<matplotlib.figure.Figure at 0x7fdd200d7c18>"
      ]
     },
     "metadata": {},
     "output_type": "display_data"
    },
    {
     "data": {
      "image/png": "[encoded data removed]",
      "text/plain": [
       "<matplotlib.figure.Figure at 0x7fdd1ad2fc88>"
      ]
     },
     "metadata": {},
     "output_type": "display_data"
    },
    {
     "data": {
      "image/png": "[encoded data removed]",
      "text/plain": [
       "<matplotlib.figure.Figure at 0x7fdd1ac378d0>"
      ]
     },
     "metadata": {},
     "output_type": "display_data"
    },
    {
     "data": {
      "image/png": "[encoded data removed]",
      "text/plain": [
       "<matplotlib.figure.Figure at 0x7fdd1ab7ea20>"
      ]
     },
     "metadata": {},
     "output_type": "display_data"
    },
    {
     "data": {
      "image/png": "[encoded data removed]",
      "text/plain": [
       "<matplotlib.figure.Figure at 0x7fdd1aa63e80>"
      ]
     },
     "metadata": {},
     "output_type": "display_data"
    }
   ],
   "source": [
    "### Define Path of Test Images\n",
    "image_path =\"./Test_images/\"\n",
    "test_classifier(image_path)"
   ]
  },
  {
   "cell_type": "markdown",
   "metadata": {},
   "source": [
    "## Visualize the top 5 predictions\n",
    "### The concept of Visualization is borrowed from Vivek Yadav - Who has intelligently used matplot lib to view the top 5 predictions"
   ]
  },
  {
   "cell_type": "markdown",
   "metadata": {},
   "source": [
    "## Other Images that are not from the GTSRB \n",
    "### Similar but color difference based Images"
   ]
  },
  {
   "cell_type": "code",
   "execution_count": null,
   "metadata": {
    "collapsed": true
   },
   "outputs": [],
   "source": [
    "otherimage_path =\"./OtherSigns/\"\n",
    "test_classifier(otherimage_path)"
   ]
  },
  {
   "cell_type": "markdown",
   "metadata": {},
   "source": [
    "For each of the new images, print out the model's softmax probabilities to show the **certainty** of the model's predictions (limit the output to the top 5 probabilities for each image). [`tf.nn.top_k`](https://www.tensorflow.org/versions/r0.12/api_docs/python/nn.html#top_k) could prove helpful here. \n",
    "\n",
    "The example below demonstrates how tf.nn.top_k can be used to find the top k predictions for each image.\n",
    "\n",
    "`tf.nn.top_k` will return the values and indices (class ids) of the top k predictions. So if k=3, for each sign, it'll return the 3 largest probabilities (out of a possible 43) and the correspoding class ids.\n",
    "\n",
    "Take this numpy array as an example. The values in the array represent predictions. The array contains softmax probabilities for five candidate images with six possible classes. `tk.nn.top_k` is used to choose the three classes with the highest probability:\n",
    "\n",
    "```\n",
    "# (5, 6) array\n",
    "a = np.array([[ 0.24879643,  0.07032244,  0.12641572,  0.34763842,  0.07893497,\n",
    "         0.12789202],\n",
    "       [ 0.28086119,  0.27569815,  0.08594638,  0.0178669 ,  0.18063401,\n",
    "         0.15899337],\n",
    "       [ 0.26076848,  0.23664738,  0.08020603,  0.07001922,  0.1134371 ,\n",
    "         0.23892179],\n",
    "       [ 0.11943333,  0.29198961,  0.02605103,  0.26234032,  0.1351348 ,\n",
    "         0.16505091],\n",
    "       [ 0.09561176,  0.34396535,  0.0643941 ,  0.16240774,  0.24206137,\n",
    "         0.09155967]])\n",
    "```\n",
    "\n",
    "Running it through `sess.run(tf.nn.top_k(tf.constant(a), k=3))` produces:\n",
    "\n",
    "```\n",
    "TopKV2(values=array([[ 0.34763842,  0.24879643,  0.12789202],\n",
    "       [ 0.28086119,  0.27569815,  0.18063401],\n",
    "       [ 0.26076848,  0.23892179,  0.23664738],\n",
    "       [ 0.29198961,  0.26234032,  0.16505091],\n",
    "       [ 0.34396535,  0.24206137,  0.16240774]]), indices=array([[3, 0, 5],\n",
    "       [0, 1, 4],\n",
    "       [0, 5, 1],\n",
    "       [1, 3, 5],\n",
    "       [1, 4, 3]], dtype=int32))\n",
    "```\n",
    "\n",
    "Looking just at the first row we get `[ 0.34763842,  0.24879643,  0.12789202]`, you can confirm these are the 3 largest probabilities in `a`. You'll also notice `[3, 0, 5]` are the corresponding indices."
   ]
  },
  {
   "cell_type": "markdown",
   "metadata": {},
   "source": [
    "---\n",
    "\n",
    "## Step 4: Visualize the Neural Network's State with Test Images\n",
    "\n",
    " This Section is not required to complete but acts as an additional excersise for understaning the output of a neural network's weights. While neural networks can be a great learning device they are often referred to as a black box. We can understand what the weights of a neural network look like better by plotting their feature maps. After successfully training your neural network you can see what it's feature maps look like by plotting the output of the network's weight layers in response to a test stimuli image. From these plotted feature maps, it's possible to see what characteristics of an image the network finds interesting. For a sign, maybe the inner network feature maps react with high activation to the sign's boundary outline or to the contrast in the sign's painted symbol.\n",
    "\n",
    " Provided for you below is the function code that allows you to get the visualization output of any tensorflow weight layer you want. The inputs to the function should be a stimuli image, one used during training or a new one you provided, and then the tensorflow variable name that represents the layer's state during the training process, for instance if you wanted to see what the [LeNet lab's](https://classroom.udacity.com/nanodegrees/nd013/parts/fbf77062-5703-404e-b60c-95b78b2f3f9e/modules/6df7ae49-c61c-4bb2-a23e-6527e69209ec/lessons/601ae704-1035-4287-8b11-e2c2716217ad/concepts/d4aca031-508f-4e0b-b493-e7b706120f81) feature maps looked like for it's second convolutional layer you could enter conv2 as the tf_activation variable.\n",
    "\n",
    "For an example of what feature map outputs look like, check out NVIDIA's results in their paper [End-to-End Deep Learning for Self-Driving Cars](https://devblogs.nvidia.com/parallelforall/deep-learning-self-driving-cars/) in the section Visualization of internal CNN State. NVIDIA was able to show that their network's inner weights had high activations to road boundary lines by comparing feature maps from an image with a clear path to one without. Try experimenting with a similar test to show that your trained network's weights are looking for interesting features, whether it's looking at differences in feature maps from images with or without a sign, or even what feature maps look like in a trained network vs a completely untrained one on the same sign image.\n",
    "\n",
    "<figure>\n",
    " <img src=\"visualize_cnn.png\" width=\"380\" alt=\"Combined Image\" />\n",
    " <figcaption>\n",
    " <p></p> \n",
    " <p style=\"text-align: center;\"> Your output should look something like this (above)</p> \n",
    " </figcaption>\n",
    "</figure>\n",
    " <p></p> \n"
   ]
  },
  {
   "cell_type": "code",
   "execution_count": null,
   "metadata": {
    "collapsed": true
   },
   "outputs": [],
   "source": [
    "def freeze_graph(model_folder):\n",
    "    # We retrieve our checkpoint fullpath\n",
    "    checkpoint = tf.train.get_checkpoint_state(model_folder)\n",
    "    input_checkpoint = checkpoint.model_checkpoint_path\n",
    "    \n",
    "    # We precise the file fullname of our freezed graph\n",
    "    absolute_model_folder = \"/\".join(input_checkpoint.split('/')[:-1])\n",
    "    output_graph = absolute_model_folder + \"/frozen_model.pb\"\n",
    "\n",
    "    # Before exporting our graph, we need to precise what is our output node\n",
    "    # This is how TF decides what part of the Graph he has to keep and what part it can dump\n",
    "    # NOTE: this variable is plural, because you can have multiple output nodes\n",
    "    output_node_names = \"Accuracy/predictions\"\n",
    "\n",
    "    # We clear devices to allow TensorFlow to control on which device it will load operations\n",
    "    clear_devices = True\n",
    "    \n",
    "    # We import the meta graph and retrieve a Saver\n",
    "    saver = tf.train.import_meta_graph(input_checkpoint + '.meta', clear_devices=clear_devices)\n",
    "\n",
    "    # We retrieve the protobuf graph definition\n",
    "    graph = tf.get_default_graph()\n",
    "    input_graph_def = graph.as_graph_def()\n",
    "\n",
    "    # We start a session and restore the graph weights\n",
    "    with tf.Session() as sess:\n",
    "        saver.restore(sess, input_checkpoint)\n",
    "\n",
    "        # We use a built-in TF helper to export variables to constants\n",
    "        output_graph_def = graph_util.convert_variables_to_constants(\n",
    "            sess, # The session is used to retrieve the weights\n",
    "            input_graph_def, # The graph_def is used to retrieve the nodes \n",
    "            output_node_names.split(\",\") # The output node names are used to select the usefull nodes\n",
    "        ) \n",
    "\n",
    "        # Finally we serialize and dump the output graph to the filesystem\n",
    "        with tf.gfile.GFile(output_graph, \"wb\") as f:\n",
    "            f.write(output_graph_def.SerializeToString())\n",
    "        print(\"%d ops in the final graph.\" % len(output_graph_def.node))\n",
    "\n",
    "\n",
    "if __name_ == '__main__':\n",
    "    parser = argparse.ArgumentParser()\n",
    "    parser.add_argument(\"--model_folder\", type=str, help=\"Model folder to export\")\n",
    "    args = parser.parse_args()\n",
    "\n",
    "    freeze_graph(args.model_folder)"
   ]
  },
  {
   "cell_type": "code",
   "execution_count": null,
   "metadata": {
    "collapsed": true
   },
   "outputs": [],
   "source": [
    "### Visualize your network's feature maps here.\n",
    "### Feel free to use as many code cells as needed.\n",
    "\n",
    "# image_input: the test image being fed into the network to produce the feature maps\n",
    "# tf_activation: should be a tf variable name used during your training procedure that represents the calculated state of a specific weight layer\n",
    "# activation_min/max: can be used to view the activation contrast in more detail, by default matplot sets min and max to the actual min and max values of the output\n",
    "# plt_num: used to plot out multiple different weight feature map sets on the same block, just extend the plt number for each new feature map entry\n",
    "\n",
    "image_path='./Test_images/SpeedLimit80kmph.png'\n",
    "image=image_normalizer(image_path)\n",
    "\n",
    "\n",
    "def outputFeatureMap(image_input, tf_activation, chkpt, activation_min=-1, activation_max=-1 ,plt_num=1):\n",
    "    # Here make sure to preprocess your image_input in a way your network expects\n",
    "    # with size, normalization, ect if needed\n",
    "    # image_input =\n",
    "    # Note: x should be the same name as your network's tensorflow data placeholder variable\n",
    "    # If you get an error tf_activation is not defined it maybe having trouble accessing the variable from inside a function\n",
    "    with tf.Session() as sess:\n",
    "        saver.restore(sess, chkpt)\n",
    "        image_reshape=np.expand_dims(image_input,axis=0)\n",
    "        activation = tf_activation.eval(session=sess,feed_dict={x : image_reshape})\n",
    "        featuremaps = activation.shape[3]\n",
    "        plt.figure(plt_num, figsize=(30,25))\n",
    "        for featuremap in range(featuremaps):\n",
    "            plt.subplot(8,8, featuremap+1) # sets the number of feature maps to show on each row and column\n",
    "            plt.title('FeatureMap ' + str(featuremap)) # displays the feature map number\n",
    "            if activation_min != -1 & activation_max != -1:\n",
    "                plt.imshow(activation[0,:,:, featuremap], interpolation=\"nearest\", vmin =activation_min, vmax=activation_max, cmap=\"gray\")\n",
    "            elif activation_max != -1:\n",
    "                plt.imshow(activation[0,:,:, featuremap], interpolation=\"nearest\", vmax=activation_max, cmap=\"gray\")\n",
    "            elif activation_min !=-1:\n",
    "                plt.imshow(activation[0,:,:, featuremap], interpolation=\"nearest\", vmin=activation_min, cmap=\"gray\")\n",
    "            else:\n",
    "                plt.imshow(activation[0,:,:, featuremap], interpolation=\"nearest\", cmap=\"gray\")\n",
    "            "
   ]
  },
  {
   "cell_type": "code",
   "execution_count": null,
   "metadata": {
    "collapsed": true
   },
   "outputs": [],
   "source": [
    "outputFeatureMap(image,vgg1,chkpt)"
   ]
  },
  {
   "cell_type": "markdown",
   "metadata": {},
   "source": [
    "### Question 9\n",
    "\n",
    "Discuss how you used the visual output of your trained network's feature maps to show that it had learned to look for interesting characteristics in traffic sign images\n"
   ]
  },
  {
   "cell_type": "markdown",
   "metadata": {},
   "source": [
    "**Answer:**"
   ]
  },
  {
   "cell_type": "markdown",
   "metadata": {},
   "source": [
    "> **Note**: Once you have completed all of the code implementations and successfully answered each question above, you may finalize your work by exporting the iPython Notebook as an HTML document. You can do this by using the menu above and navigating to  \\n\",\n",
    "    \"**File -> Download as -> HTML (.html)**. Include the finished document along with this notebook as your submission."
   ]
  },
  {
   "cell_type": "markdown",
   "metadata": {},
   "source": [
    "### Project Writeup\n",
    "\n",
    "Once you have completed the code implementation, document your results in a project writeup using this [template](https://github.com/udacity/CarND-Traffic-Sign-Classifier-Project/blob/master/writeup_template.md) as a guide. The writeup can be in a markdown or pdf file. "
   ]
  }
 ],
 "metadata": {
  "anaconda-cloud": {},
  "kernelspec": {
   "display_name": "Python 3",
   "language": "python",
   "name": "python3"
  },
  "language_info": {
   "codemirror_mode": {
    "name": "ipython",
    "version": 3
   },
   "file_extension": ".py",
   "mimetype": "text/x-python",
   "name": "python",
   "nbconvert_exporter": "python",
   "pygments_lexer": "ipython3",
   "version": "3.5.3"
  },
  "widgets": {
   "state": {},
   "version": "1.1.2"
  }
 },
 "nbformat": 4,
 "nbformat_minor": 1
}
