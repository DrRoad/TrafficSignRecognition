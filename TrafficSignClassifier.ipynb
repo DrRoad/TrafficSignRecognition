{
 "cells": [
  {
   "cell_type": "markdown",
   "metadata": {},
   "source": [
    "<h1 id=\"tocheading\">Table of Contents</h1>\n",
    "<div id=\"toc\"></div>"
   ]
  },
  {
   "cell_type": "code",
   "execution_count": null,
   "metadata": {
    "collapsed": false
   },
   "outputs": [],
   "source": [
    "%%javascript\n",
    "$.getScript('https://kmahelona.github.io/ipython_notebook_goodies/ipython_notebook_toc.js')"
   ]
  },
  {
   "cell_type": "markdown",
   "metadata": {
    "deletable": true,
    "editable": true
   },
   "source": [
    "### Import and Load Modules, Features from the Dataset\n",
    "#### Import Necessary Modules"
   ]
  },
  {
   "cell_type": "code",
   "execution_count": null,
   "metadata": {
    "collapsed": false,
    "deletable": true,
    "editable": true
   },
   "outputs": [],
   "source": [
    "#######skimage for Image Transformations\n",
    "from skimage import img_as_float\n",
    "from skimage import img_as_ubyte\n",
    "from skimage import filters\n",
    "from skimage import color\n",
    "from skimage import exposure\n",
    "from skimage.transform import rotate\n",
    "from skimage.transform import warp\n",
    "from skimage.transform import ProjectiveTransform\n",
    "from skimage.transform import AffineTransform\n",
    "from sklearn.preprocessing import scale\n",
    "from sklearn.preprocessing import minmax_scale\n",
    "import cv2\n",
    "\n",
    "######## Matplotlib for Displaying Plots\n",
    "import matplotlib.gridspec as gridspec\n",
    "import matplotlib.pyplot as plt\n",
    "\n",
    "\n",
    "######## Random and Math and Numpy for Mathematical Operations\n",
    "from random import randint\n",
    "from random import uniform\n",
    "import math\n",
    "import numpy as np\n",
    "from numpy import linalg,dot,sqrt\n",
    "\n",
    "\n",
    "\n",
    "#####Pickle for Caching, Storing and Retrieving Data\n",
    "import pickle\n",
    "\n",
    "###### Import Shuffling function from SKLEARN\n",
    "from sklearn import decomposition\n",
    "from sklearn.utils import shuffle\n",
    "from sklearn.model_selection import train_test_split\n",
    "\n",
    "####### Pandas For Data Visualization, TQDM for Progress Bar\n",
    "import pandas as pd\n",
    "from tqdm import trange\n",
    "from IPython.display import display, HTML\n",
    "%matplotlib inline\n",
    "\n",
    "print(\"Modules Imported\")"
   ]
  },
  {
   "cell_type": "markdown",
   "metadata": {},
   "source": [
    "#### Load the Pickle File "
   ]
  },
  {
   "cell_type": "code",
   "execution_count": null,
   "metadata": {
    "collapsed": false
   },
   "outputs": [],
   "source": [
    "training_file = 'train.pickle'\n",
    "validation_file='valid.pickle'\n",
    "testing_file = 'test.pickle'\n",
    "\n",
    "with open(training_file, mode='rb') as f:\n",
    "    train = pickle.load(f)\n",
    "with open(validation_file, mode='rb') as f:\n",
    "    valid = pickle.load(f)\n",
    "with open(testing_file, mode='rb') as f:\n",
    "    test = pickle.load(f)\n",
    "    \n",
    "X_train, y_train = train['features'], train['labels']\n",
    "X_valid, y_valid = valid['features'], valid['labels']\n",
    "X_test, y_test = test['features'], test['labels']\n",
    "\n",
    "\n",
    "# Set Flags to make sure data is handled the right way \n",
    "is_normalized=False\n",
    "is_dataAugmented = False\n",
    "is_sorted=False\n",
    "is_extended=False\n",
    "is_PCA=False\n",
    "print(\"Data and Modules loaded\")"
   ]
  },
  {
   "cell_type": "markdown",
   "metadata": {
    "deletable": true,
    "editable": true
   },
   "source": [
    "---\n",
    "\n",
    "## Step 1: Functions for Dataset Summary & Exploration\n",
    "\n",
    "The pickled data is a dictionary with 4 key/value pairs:\n",
    "\n",
    "- `'features'` is a 4D array containing raw pixel data of the traffic sign images, (num examples, width, height, channels).\n",
    "- `'labels'` is a 1D array containing the label/class id of the traffic sign. The file `signnames.csv` contains id -> name mappings for each id.\n",
    "- `'sizes'` is a list containing tuples, (width, height) representing the the original width and height the image.\n",
    "- `'coords'` is a list containing tuples, (x1, y1, x2, y2) representing coordinates of a bounding box around the sign in the image."
   ]
  },
  {
   "cell_type": "markdown",
   "metadata": {},
   "source": [
    "### Summarizing the Spread and Characteristics of the dataset using Pandas\n",
    "1. There are datsets that can be flippable and their meaning wouldnt essentially change.\n",
    "+ There are signs which when flipped causes a change in their meaning. \n",
    "+ They are Summarized in a Pandas Data Frame."
   ]
  },
  {
   "cell_type": "markdown",
   "metadata": {},
   "source": [
    "<img src=\"files/DataVisualization.png\">"
   ]
  },
  {
   "cell_type": "markdown",
   "metadata": {},
   "source": [
    "<a id='Dataset Visualization Function'></a>\n",
    "#### Dataset Visualization Function"
   ]
  },
  {
   "cell_type": "code",
   "execution_count": null,
   "metadata": {
    "collapsed": true
   },
   "outputs": [],
   "source": [
    "def visualize_dataset(X_input,y_input, nr, nc):\n",
    "    \n",
    "    # Sort Images based on labels to batch the labels according to uniform size\n",
    "    sorter = np.argsort(y_input)\n",
    "    #Sort Dataset\n",
    "    X_input=X_input[sorter]\n",
    "    n_classes, counts=np.unique(y_input, return_counts=True)\n",
    "    \n",
    "    \n",
    "    # TODO: Number of training examples\n",
    "    n_train = len(X_input)\n",
    "    # TODO: What's the shape of an traffic sign image?\n",
    "    image_shape = X_input[0].shape\n",
    "    df=pd.read_csv(\"signnames.csv\")\n",
    "  \n",
    "    #### Populating the Data Frame \n",
    "    df['Counts']=counts\n",
    "    # Random Check to verify if the sorting of data is consistent.\n",
    "    randval=randint(0,len(X_input)-1)\n",
    "    rowindex=y_input[randval]\n",
    "    condition = df['ClassId'] == rowindex\n",
    "    y_name=df[condition]\n",
    "    \n",
    "\n",
    "    # Classes of signs that, when flipped horizontally, should still be classified as the same class\n",
    "    self_flippable_horizontally = np.array([11, 12, 13, 15, 17, 18, 22, 26, 30, 35])\n",
    "    df_sfh=np.empty(len(n_classes),dtype=object)\n",
    "    for i in range(len(df_sfh)):\n",
    "        if i in self_flippable_horizontally:\n",
    "            df_sfh[i]=\"yes\"\n",
    "        else:\n",
    "            df_sfh[i]=\"no\"\n",
    "    df['Horizontally Flippable']=df_sfh\n",
    "\n",
    "    # Classes of signs that, when flipped vertically, should still be classified as the same class\n",
    "    self_flippable_vertically = np.array([1, 5, 12, 15, 17])\n",
    "    df_sfv=np.empty(len(n_classes),dtype=object)\n",
    "    for i in range(len(df_sfv)):\n",
    "        if i in self_flippable_vertically:\n",
    "            df_sfv[i]=\"yes\"\n",
    "        else:\n",
    "            df_sfv[i]=\"no\"\n",
    "    df['Vertically Flippable']=df_sfv\n",
    "\n",
    "    # Classes of signs that, when flipped horizontally and then vertically, should still be classified as the same class\n",
    "    self_flippable_both = np.array([32, 40])\n",
    "    df_sfb=np.empty(len(n_classes),dtype=object)\n",
    "    for i in range(len(df_sfb)):\n",
    "        if i in self_flippable_both:\n",
    "            df_sfb[i]=\"yes\"\n",
    "        else:\n",
    "            df_sfb[i]=\"no\"\n",
    "    df['Flippable Both Ways']=df_sfb\n",
    "\n",
    "\n",
    "    # Classes of signs that, when flipped horizontally, would still be meaningful, but should be classified as some other class\n",
    "    cross_flippable = np.array([[19, 20], [33, 34], [36, 37], [38, 39],[20, 19], [34, 33], [37, 36], [39, 38]])\n",
    "    df_cf=np.empty(len(n_classes),dtype=object)\n",
    "    for i in range(len(df_cf)):\n",
    "        if i in cross_flippable:\n",
    "            z=np.nonzero(cross_flippable[:,0] == i)\n",
    "            df_cf[i]=df.ix[cross_flippable[z[0]][0][1],'SignName']\n",
    "        else:\n",
    "            df_cf[i]=\"no\"\n",
    "    df['CrossFlippable']=df_cf\n",
    "\n",
    "    \n",
    "    ############ Display Section #################\n",
    "    print(\"Number of training examples =\", n_train)\n",
    "    print(\"Image data shape =\", image_shape)\n",
    "    print(\"Number of classes =\", len(n_classes))\n",
    "    print (\"Image Datatype=\",X_input.dtype) \n",
    "    plt.rcParams['figure.figsize'] = (16, 6)\n",
    "    display(df)\n",
    "    plt.grid()\n",
    "    plt.xlabel(\"Class -ID\")\n",
    "    plt.ylabel(\"Number of Images\")\n",
    "    plt.title(\"Data Histogram\")\n",
    "    plt.bar(n_classes,counts)\n",
    "    images_show(X_input,nr,nc,rand=True)\n",
    "    \n",
    "\n",
    "def images_show(X_input,nr,nc,rand):\n",
    "    ############ Show randomly chosen 100 images \n",
    "    \n",
    "    if (len(X_input.shape)==4 and (X_input.shape[3]!=3)):\n",
    "        X_disp=np.reshape(X_input,(X_input.shape[0],X_input.shape[1],-1))\n",
    "    else:\n",
    "        X_disp=X_input\n",
    "        \n",
    "\n",
    "    if rand==True:\n",
    "        randval1=randint(0,len(X_disp)-1)\n",
    "    else:\n",
    "        randval1=0\n",
    "        \n",
    "    randval2=randval1+(nr*nc)\n",
    "    disp_im=X_disp[randval1:randval2]\n",
    "    num_rows = nr\n",
    "    num_cols = nc\n",
    "    plt.figure(figsize=(20,20))\n",
    "    gs = gridspec.GridSpec(num_rows, num_cols, wspace=0.1)\n",
    "    ax = [plt.subplot(gs[i]) for i in range(num_rows*num_cols)]   \n",
    "    for index,index_im in enumerate(disp_im):\n",
    "        ax[index].imshow(index_im,cmap='gray')\n",
    "        ax[index].axis('off')\n",
    "    plt.show()"
   ]
  },
  {
   "cell_type": "markdown",
   "metadata": {
    "editable": true
   },
   "source": [
    "## Step 2:  Functions for Augmentation to supplement the dataset\n",
    "The Augmentation algorithm is based on\n",
    "Data augmentation batch iterator for feeding images into CNN.\n",
    "\n",
    "###  Background Work\n",
    "<img src=\"files/DataPreProcessingSteps.png\">\n",
    "\n",
    "**For Rotation , Translation & Shearing**\n",
    "- **Rotate** all images in a given batch between -10 and 10 degrees.\n",
    "- **Random Translations** between -10 and 10 pixels in all directions.\n",
    "- **Random Zooms** between 1 and 1.3.\n",
    "- **Random Shearing** between -25 and 25 degrees.\n",
    "- randomly applies **Sobel Edge** detector to 1/4th of the images in each batch.\n",
    "- **Randomly Inverts** 1/4 of the images in each batch.\n",
    "\n",
    "> **Source:   https://github.com/vxy10/ImageAugmentation**  - Vivek Yadav on Traffic Sign Classification.\n",
    "\n",
    "> **Source:   http://florianmuellerklein.github.io/cnn_streetview/** - Florian Mieller on Street View using CNNs\n",
    "\n",
    "**Mirroring & Flipping Function**:\n",
    "The function is used to augment the dataset with Zero Computational Effort\n",
    "The process followed is \n",
    "- Identify classes that wouldn't change meaning when flipped\n",
    "- Identify classes that can generate another class when flipped. \n",
    "- Make sure the labelling is done as per the change of meaning.  \n",
    "\n",
    "> **Source:     http://navoshta.com/traffic-signs-classification **"
   ]
  },
  {
   "cell_type": "markdown",
   "metadata": {
    "collapsed": true
   },
   "source": [
    "### Functions for Image Normalization, Rotation , Augmentation , Flipping and Warping"
   ]
  },
  {
   "cell_type": "code",
   "execution_count": null,
   "metadata": {
    "collapsed": true
   },
   "outputs": [],
   "source": [
    "########## Extend Dataset by Flipping and Rotation  ###########\n",
    "\n",
    "def flip_extend(X, y):\n",
    "    # Classes of signs that, when flipped horizontally, should still be classified as the same class\n",
    "    self_flippable_horizontally = np.array([11, 12, 13, 15, 17, 18, 22, 26, 30, 35])\n",
    "    # Classes of signs that, when flipped vertically, should still be classified as the same class\n",
    "    self_flippable_vertically = np.array([1, 5, 12, 15, 17])\n",
    "    # Classes of signs that, when flipped horizontally and then vertically, should still be classified as the same class\n",
    "    self_flippable_both = np.array([32, 40])\n",
    "    # Classes of signs that, when flipped horizontally, would still be meaningful, but should be classified as some other class\n",
    "    cross_flippable = np.array([[19, 20], [33, 34], [36, 37], [38, 39],[20, 19], [34, 33], [37, 36], [39, 38]])\n",
    "    num_classes, counts=np.unique(y, return_counts=True)\n",
    "    \n",
    "    \n",
    "    X_extended = np.empty([0, X.shape[1], X.shape[2], X.shape[3]], dtype = X.dtype)\n",
    "    y_extended = np.empty([0], dtype = y.dtype)\n",
    "    \n",
    "    for c in range(len(num_classes)):\n",
    "        # First copy existing data for this class\n",
    "        X_extended = np.append(X_extended, X[y == c], axis = 0)\n",
    "        \n",
    "        \n",
    "        # If we can flip images of this class horizontally and they would still belong to said class...\n",
    "        if c in self_flippable_horizontally:\n",
    "            # ...Copy their flipped versions into extended array.\n",
    "            X_extended = np.append(X_extended, X[y == c][:, :, ::-1, :], axis = 0)\n",
    "            \n",
    "\n",
    "        # If we can flip images of this class horizontally and they would belong to other class...\n",
    "        if c in cross_flippable[:, 0]:\n",
    "            # ...Copy flipped images of that other class to the extended array.\n",
    "            flip_class = cross_flippable[cross_flippable[:, 0] == c][0][1]\n",
    "            X_extended = np.append(X_extended, X[y == flip_class][:, :, ::-1, :], axis = 0)     \n",
    "        # Fill labels for added images set to current class.\n",
    "        y_extended = np.append(y_extended, np.full((X_extended.shape[0] - y_extended.shape[0]), c, dtype = int))\n",
    "         \n",
    "        \n",
    "        # If we can flip images of this class vertically and they would still belong to said class...\n",
    "        if c in self_flippable_vertically:\n",
    "            # ...Copy their flipped versions into extended array.\n",
    "            X_extended = np.append(X_extended, X_extended[y_extended == c][:, ::-1, :, :], axis = 0)\n",
    "        # Fill labels for added images set to current class.\n",
    "        y_extended = np.append(y_extended, np.full((X_extended.shape[0] - y_extended.shape[0]), c, dtype = int))\n",
    "        \n",
    "        \n",
    "        # If we can flip images of this class horizontally AND vertically and they would still belong to said class...\n",
    "        if c in self_flippable_both:\n",
    "            # ...Copy their flipped versions into extended array.\n",
    "            X_extended = np.append(X_extended, X_extended[y_extended == c][:, ::-1, ::-1, :], axis = 0)\n",
    "            \n",
    "            \n",
    "        # Fill labels for added images set to current class.\n",
    "        y_extended = np.append(y_extended, np.full((X_extended.shape[0] - y_extended.shape[0]), c, dtype = int))\n",
    "    \n",
    "    return (X_extended, y_extended)\n",
    "\n",
    "def grayscale(img):\n",
    "    return cv2.cvtColor(img, cv2.COLOR_RGB2GRAY)\n",
    "\n",
    "####### Image Normalizer for exposure based histogram equalization ####### \n",
    "def image_normalizer(X,histeq):\n",
    "\n",
    "    n_samples=X.shape[0]\n",
    "    n_h=X.shape[1]\n",
    "    n_w=X.shape[2]\n",
    "    \n",
    "    print(\"Normalizing:\")\n",
    "    #Convert to grayscale, e.g. single Y channel\n",
    "    X = 0.299 * X[:, :, :, 0] + 0.587 * X[:, :, :, 1] + 0.114 * X[:, :, :, 2]\n",
    "    \n",
    "    if not histeq:\n",
    "        print(\"Center and Normalization Global Mean STDEV\")\n",
    "        ##### Center the Dataset around the Mean \n",
    "        X_f=np.reshape(X,(n_samples,-1))\n",
    "        X_c=scale(X_f)\n",
    "        X_lcr= np.reshape(X_c,(n_samples,n_h,n_w))\n",
    "\n",
    "        print(\"Center , Normalization, Scale Local Image Mean\")\n",
    "        ##### Center the Image around the Mean\n",
    "        X_lc = np.array([scale(img) for img in X_lcr])\n",
    "        X_sc = np.array([minmax_scale(img,feature_range=(-1,1)) for img in X_lc])\n",
    "        X_r = np.reshape(X_sc,(n_samples,n_h,n_w,-1))\n",
    "        return X_r\n",
    "    else:\n",
    "        X = (X / 255.).astype(np.float32)\n",
    "        for i in range(X.shape[0]):\n",
    "            X[i] = exposure.equalize_adapthist(X[i])\n",
    "        return X.reshape(n_samples,n_h,n_w,-1)\n",
    "\n",
    "\n",
    "def invert(X):\n",
    "    # invert half of the images\n",
    "    indices_invert = np.random.choice(X.shape[0],int(X.shape[0] / 2), replace = False)\n",
    "    for l in indices_invert:\n",
    "        img = X[l][0]\n",
    "        X[l][0] = np.absolute(img - np.amax(img))\n",
    "    return X\n",
    "\n",
    "\n",
    "########### Image Rotate Function ################ \n",
    "def img_rotate(X, intensity):    \n",
    "    for i in range(X.shape[0]):            \n",
    "        delta = 30. * intensity # scale using augmentation intensity\n",
    "        X[i] = rotate(X[i], uniform(-delta, delta), mode = 'edge')\n",
    "    return X \n",
    "\n",
    "############## Sobel Edge #########################\n",
    "def sobel(X):\n",
    "    # use sobel edge detector filter on one quarter of the images\n",
    "    indices_sobel = np.random.choice(X.shape[0],int(X.shape[0] / 4), replace = False)\n",
    "    for k in indices_sobel:\n",
    "        img = X[k][0]\n",
    "        X[k][0] = filters.sobel(img)\n",
    "    return X\n",
    "\n",
    "def gaussian(X):\n",
    "    indices_gaussian = np.random.choice(X.shape[0],int(X.shape[0] / 4), replace = False)\n",
    "    for k in indices_gaussian:\n",
    "        img = X[k][0]\n",
    "        X[k][0] = filters.gaussian(img,sigma=1)\n",
    "    return X\n",
    "    \n",
    "def augment_brightness(X):\n",
    "    random_bright = .25+np.random.uniform()\n",
    "    indices_randbright=np.random.choice(X.shape[0],int(X.shape[0] / 4), replace = False)\n",
    "    for k in indices_randbright:\n",
    "        img=X[k][0]\n",
    "        X[k][0]=img*random_bright \n",
    "    return X\n",
    "\n",
    "    \n",
    "##################### For Affine , Shar, Scale and Rotation, Projective Transforms #######\n",
    "def apply_projection_transform(X, intensity):\n",
    "    image_size = X.shape[1]\n",
    "    d = image_size * 0.3 * intensity\n",
    "    for i in range(X.shape[0]):\n",
    "        tl_top = uniform(-d, d)     # Top left corner, top margin\n",
    "        tl_left = uniform(-d, d)    # Top left corner, left margin\n",
    "        bl_bottom = uniform(-d, d)  # Bottom left corner, bottom margin\n",
    "        bl_left = uniform(-d, d)    # Bottom left corner, left margin\n",
    "        tr_top = uniform(-d, d)     # Top right corner, top margin\n",
    "        tr_right =uniform(-d, d)   # Top right corner, right margin\n",
    "        br_bottom =uniform(-d, d)  # Bottom right corner, bottom margin\n",
    "        br_right = uniform(-d, d)   # Bottom right corner, right margin\n",
    "        \n",
    "        aft=  AffineTransform(scale=(1, 1/1.3))\n",
    "        X[i]= warp(X[i], aft,output_shape=(image_size, image_size), order = 1, mode = 'edge')\n",
    "        transform = ProjectiveTransform()\n",
    "        transform.estimate(np.array((\n",
    "                (tl_left, tl_top),\n",
    "                (bl_left, image_size - bl_bottom),\n",
    "                (image_size - br_right, image_size - br_bottom),\n",
    "                (image_size - tr_right, tr_top)\n",
    "            )), np.array((\n",
    "                (0, 0),\n",
    "                (0, image_size),\n",
    "                (image_size, image_size),\n",
    "                (image_size, 0)\n",
    "            )))\n",
    "\n",
    "        X[i] = warp(X[i], transform, output_shape=(image_size, image_size), order = 1, mode = 'edge')\n",
    "\n",
    "    return X"
   ]
  },
  {
   "cell_type": "code",
   "execution_count": null,
   "metadata": {
    "collapsed": false,
    "deletable": true,
    "editable": true
   },
   "outputs": [],
   "source": [
    "def batch_iterator(X, Y, sample_size, intensity_factor):\n",
    "    n_classes, counts=np.unique(Y, return_counts=True)\n",
    "    offset=0\n",
    "    for i in range(len(n_classes)):\n",
    "        BATCH_SIZE=counts[i]-1\n",
    "        # Augmentation factor is currently scaled based on \n",
    "        # number of samples required to match the class with max samples.\n",
    "        aug_fac=(math.ceil(sample_size/BATCH_SIZE))-1\n",
    "        batch_X, batch_Y = X[offset:offset+BATCH_SIZE], Y[offset:offset+BATCH_SIZE]\n",
    "        # Use the batch iterator from previously\n",
    "        # defined function to create Datasets\n",
    "        if(aug_fac>0):\n",
    "            for j in range(aug_fac):\n",
    "                X_aug,Y_aug=Augment_Images(batch_X,batch_Y, intensity_factor)\n",
    "                X=np.concatenate((X,X_aug),axis=0)\n",
    "                Y=np.concatenate((Y,Y_aug),axis=0)\n",
    "        offset+=BATCH_SIZE+1     \n",
    "    return X,Y\n",
    "\n",
    "def Augment_Images(X,Y,intensity_factor):\n",
    "    # Intensity defines the rate at which the Images are transformed\n",
    "    # Rotate, Shear and Scale all images\n",
    "    X= img_rotate(X, intensity_factor)\n",
    "    X= apply_projection_transform(X, intensity_factor) \n",
    "    X=sobel(X)\n",
    "    X=gaussian(X)\n",
    "    X= invert(X)  \n",
    "    X=augment_brightness(X)\n",
    "    return X,Y"
   ]
  },
  {
   "cell_type": "markdown",
   "metadata": {},
   "source": [
    "#### Visualize all three datasets under disposal"
   ]
  },
  {
   "cell_type": "code",
   "execution_count": null,
   "metadata": {
    "collapsed": false,
    "deletable": true,
    "editable": true,
    "scrolled": true
   },
   "outputs": [],
   "source": [
    "# Visualize Dataset\n",
    "visualize_dataset(X_train,y_train, 5, 5)\n",
    "visualize_dataset(X_valid,y_valid, 5, 5)\n",
    "visualize_dataset(X_test,y_test, 5, 5)"
   ]
  },
  {
   "cell_type": "markdown",
   "metadata": {},
   "source": [
    "#### Center, Normalize and Extend Dataset"
   ]
  },
  {
   "cell_type": "code",
   "execution_count": null,
   "metadata": {
    "collapsed": false,
    "scrolled": true
   },
   "outputs": [],
   "source": [
    "########## Normalize Data ##############\n",
    "if not is_normalized:\n",
    "    X_train_1=image_normalizer(X_train, histeq=True)\n",
    "    X_train_2=image_normalizer(X_train, histeq=False)\n",
    "    X_train=np.concatenate((X_train_1,X_train_2),axis=0)\n",
    "    y_train=np.concatenate((y_train,y_train),axis=0)\n",
    "    print(\"Training Dataset Normalized\")\n",
    "    X_valid=image_normalizer(X_valid, histeq=True)\n",
    "    print(\"Validation Dataset Normalized\")\n",
    "    X_test=image_normalizer(X_test, histeq=True)\n",
    "    print(\"Test Dataset Normalized\")\n",
    "    is_normalized=True\n",
    "\n",
    "\n",
    "######## Visualize Dataset post Extension using Flipping\n",
    "if not is_extended:\n",
    "    X_train=X_train.reshape(X_train.shape[0],X_train.shape[1],X_train.shape[2],-1)\n",
    "    X_train,y_train=flip_extend(X_train, y_train)\n",
    "    print(\"Dataset Extended\")\n",
    "    visualize_dataset(X_train,y_train,10,10)\n",
    "    is_extended=True\n",
    "                                           \n",
    "\n",
    "if not is_sorted:\n",
    "    sorter = np.argsort(y_train)\n",
    "    #Sort Dataset\n",
    "    y_train=y_train[sorter]\n",
    "    X_train=X_train[sorter]\n",
    "    is_sorted=True"
   ]
  },
  {
   "cell_type": "markdown",
   "metadata": {
    "deletable": true,
    "editable": true
   },
   "source": [
    "### Augmentation Process\n",
    "- Revisualization\n",
    "- Re- Plotting the dataset post augmentation"
   ]
  },
  {
   "cell_type": "code",
   "execution_count": null,
   "metadata": {
    "collapsed": false,
    "deletable": true,
    "editable": true,
    "scrolled": false
   },
   "outputs": [],
   "source": [
    "############# Augment Data based on Classes \n",
    "if not is_dataAugmented:\n",
    "    offset=0\n",
    "    X_train,y_train=batch_iterator(X_train, y_train, sample_size=4000, intensity_factor=0.6)\n",
    "    # Make sure the augmented data set is a number divisible by 10 for easy batching \n",
    "    mod=len(X_train)%100\n",
    "    trunc=100-mod\n",
    "    index_range=np.arange(0,trunc,1)\n",
    "    for j in index_range:\n",
    "        rand_index=randint(0,len(X_train)-1)\n",
    "        temp1=np.expand_dims(X_train[rand_index],axis=0)\n",
    "        temp2=np.expand_dims(y_train[rand_index],axis=0)\n",
    "        X_train=np.append(X_train,temp1,axis=0)\n",
    "        y_train=np.append(y_train,temp2,axis=0)\n",
    "        \n",
    "    #### Flag to store flag if the augmented data of features are cached.\n",
    "    is_dataAugmented = True\n",
    "    is_augcached = False\n",
    "\n",
    "\n",
    "# Randomly Display 100 images in a given class to\n",
    "# see the output of augmentation \n",
    "print(\"New Training Dataset Size:\",len(X_train))\n",
    "images_show(X_train,nr=10,nc=10,rand=True)"
   ]
  },
  {
   "cell_type": "markdown",
   "metadata": {},
   "source": [
    "#### Merge the Training and Validation Set and Reshuffle to maintain a healthy 20% Ratio"
   ]
  },
  {
   "cell_type": "code",
   "execution_count": null,
   "metadata": {
    "collapsed": false
   },
   "outputs": [],
   "source": [
    "X_master=np.concatenate((X_train,X_valid),axis=0)\n",
    "y_master=np.concatenate((y_train,y_valid),axis=0)\n",
    "\n",
    "X_master= X_master.astype(np.float32)\n",
    "X_test= X_test.astype(np.float32)\n",
    "\n",
    "# Get randomized datasets for training and validation\n",
    "X_train, X_valid, y_train, y_valid = train_test_split(X_master,y_master,test_size=0.20,random_state=832289)\n",
    "print(\"Dataset Reshuffled, Labels and Features Split and Randomized\")"
   ]
  },
  {
   "cell_type": "markdown",
   "metadata": {
    "deletable": true,
    "editable": true
   },
   "source": [
    "## Completed Preprocessing and Ready for Model Training\n",
    "### Run Cell Below to Validate the same\n",
    "### This cell will also pickle the updated files"
   ]
  },
  {
   "cell_type": "code",
   "execution_count": null,
   "metadata": {
    "collapsed": false,
    "deletable": true,
    "editable": true
   },
   "outputs": [],
   "source": [
    "# Save the data for easy access\n",
    "# assert is_features_normal, 'You skipped the step to normalize the features'\n",
    "# assert is_dataAugmented, 'You skipped the step to Augment Dataset'\n",
    "# assert is_validdataAugmented, 'You skipped augmenting Validation Dataset'\n",
    "\n",
    "training_file = 'train_aug.pickle'\n",
    "validation_file='valid_aug.pickle'\n",
    "testing_file = 'test_aug.pickle'\n",
    "\n",
    "\n",
    "if not is_augcached:\n",
    "    try:\n",
    "        with open(training_file, 'wb') as pfile:\n",
    "            pickle.dump(\n",
    "                {\n",
    "                    'features': X_train,\n",
    "                    'labels': y_train\n",
    "                },\n",
    "                pfile, pickle.HIGHEST_PROTOCOL)\n",
    "    except Exception as e:\n",
    "        print('Unable to save data to', pickle_file, ':', e)\n",
    "        raise\n",
    "\n",
    "    try:\n",
    "        with open(validation_file, 'wb') as pfile:\n",
    "            pickle.dump(\n",
    "                {\n",
    "                    'features': X_valid,\n",
    "                    'labels': y_valid\n",
    "                },\n",
    "                pfile, pickle.HIGHEST_PROTOCOL)\n",
    "    except Exception as e:\n",
    "        print('Unable to save data to', pickle_file, ':', e)\n",
    "        raise\n",
    "\n",
    "\n",
    "    try:\n",
    "        with open(testing_file, 'wb') as pfile:\n",
    "            pickle.dump(\n",
    "                {\n",
    "                    'features': X_test,\n",
    "                    'labels': y_test\n",
    "                },\n",
    "                pfile, pickle.HIGHEST_PROTOCOL)\n",
    "    except Exception as e:\n",
    "        print('Unable to save data to', pickle_file, ':', e)\n",
    "        raise\n",
    "    is_augcached=True\n",
    "        \n",
    "print('Data cached in pickle file.')"
   ]
  },
  {
   "cell_type": "markdown",
   "metadata": {
    "deletable": true,
    "editable": true
   },
   "source": [
    "## Checkpoint - Once pre processing is done . You can load this file directly. "
   ]
  },
  {
   "cell_type": "code",
   "execution_count": 1,
   "metadata": {
    "collapsed": false,
    "deletable": true,
    "editable": true,
    "scrolled": true
   },
   "outputs": [
    {
     "name": "stdout",
     "output_type": "stream",
     "text": [
      "Data and Modules loaded\n"
     ]
    }
   ],
   "source": [
    "####### Module to retrieve pickled data######\n",
    "import pickle\n",
    "from sklearn.utils import shuffle\n",
    "\n",
    "########## Plotting Data ########\n",
    "%matplotlib inline\n",
    "import matplotlib.pyplot as plt\n",
    "import matplotlib.gridspec as gridspec\n",
    "from IPython.display import display, HTML\n",
    "from tqdm import trange\n",
    "\n",
    "\n",
    "###### Visualizing DataFrame ########\n",
    "import pandas as pd\n",
    "\n",
    "####### Image Operations ###########\n",
    "from skimage import img_as_ubyte\n",
    "from skimage import img_as_float\n",
    "import cv2\n",
    "\n",
    "####### Mathematical & Array Operations #########\n",
    "import numpy as np\n",
    "import math\n",
    "from random import randint\n",
    "from collections import namedtuple\n",
    "\n",
    "############ Tensor FLow for Neural Network Frameworks\n",
    "import tensorflow as tf\n",
    "from tensorflow.contrib.layers import flatten\n",
    "from tensorflow.contrib.layers import apply_regularization\n",
    "from tensorflow.contrib.layers import l1_regularizer\n",
    "from tensorflow.contrib.layers import xavier_initializer\n",
    "\n",
    "\n",
    "# TODO: Fill this in based on where you saved the training and testing data\n",
    "\n",
    "training_file = 'train_aug.pickle'\n",
    "validation_file='valid_aug.pickle'\n",
    "testing_file = 'test_aug.pickle'\n",
    "\n",
    "is_data_loaded=False\n",
    "if not is_data_loaded:\n",
    "\n",
    "    with open(training_file, mode='rb') as f:\n",
    "        train = pickle.load(f)\n",
    "    with open(validation_file, mode='rb') as f:\n",
    "        valid = pickle.load(f)\n",
    "    with open(testing_file, mode='rb') as f:\n",
    "        test = pickle.load(f)\n",
    "\n",
    "    X_train, y_train = train['features'], train['labels']\n",
    "    X_valid, y_valid = valid['features'], valid['labels']\n",
    "    X_test, y_test = test['features'], test['labels']\n",
    "    is_data_loaded=True\n",
    "\n",
    "    \n",
    "# Set Flags to make sure data is handled the right way \n",
    "is_features_normal = True\n",
    "is_dataAugmented = True\n",
    "\n",
    "print(\"Data and Modules loaded\")"
   ]
  },
  {
   "cell_type": "markdown",
   "metadata": {},
   "source": [
    "####  Before Proceeding Load all Helper Functions\n",
    "<a href='#Dataset Visualization Function'>Helper Functions</a>"
   ]
  },
  {
   "cell_type": "code",
   "execution_count": 2,
   "metadata": {
    "collapsed": false,
    "scrolled": false
   },
   "outputs": [
    {
     "ename": "NameError",
     "evalue": "name 'visualize_dataset' is not defined",
     "output_type": "error",
     "traceback": [
      "\u001b[0;31m---------------------------------------------------------------------------\u001b[0m",
      "\u001b[0;31mNameError\u001b[0m                                 Traceback (most recent call last)",
      "\u001b[0;32m<ipython-input-2-54be158041dd>\u001b[0m in \u001b[0;36m<module>\u001b[0;34m()\u001b[0m\n\u001b[1;32m     10\u001b[0m \u001b[0;34m\u001b[0m\u001b[0m\n\u001b[1;32m     11\u001b[0m \u001b[0;34m\u001b[0m\u001b[0m\n\u001b[0;32m---> 12\u001b[0;31m \u001b[0mvisualize_dataset\u001b[0m\u001b[0;34m(\u001b[0m\u001b[0mX_train\u001b[0m\u001b[0;34m,\u001b[0m\u001b[0my_train\u001b[0m\u001b[0;34m,\u001b[0m\u001b[0;36m10\u001b[0m\u001b[0;34m,\u001b[0m\u001b[0;36m10\u001b[0m\u001b[0;34m)\u001b[0m\u001b[0;34m\u001b[0m\u001b[0m\n\u001b[0m",
      "\u001b[0;31mNameError\u001b[0m: name 'visualize_dataset' is not defined"
     ]
    }
   ],
   "source": [
    "def data_dim(X):\n",
    "    if len(X.shape)<4:\n",
    "        X = X.reshape(X.shape + (1,))\n",
    "    return X\n",
    "\n",
    "#Check for data Dimensionality and redimension ### \n",
    "X_train= data_dim(X_train)\n",
    "X_valid= data_dim(X_valid)\n",
    "X_test= data_dim(X_test)\n",
    "\n",
    "\n",
    "visualize_dataset(X_train,y_train,10,10)"
   ]
  },
  {
   "cell_type": "markdown",
   "metadata": {
    "deletable": true,
    "editable": true
   },
   "source": [
    "----\n",
    "\n",
    "## Step 2: Design and Test a Model Architecture\n",
    "\n",
    "Design and implement a deep learning model that learns to recognize traffic signs. Train and test your model on the [German Traffic Sign Dataset](http://benchmark.ini.rub.de/?section=gtsrb&subsection=dataset).\n",
    "\n",
    "There are various aspects to consider when thinking about this problem:\n",
    "\n",
    "- Neural network architecture\n",
    "- Play around preprocessing techniques (normalization, rgb to grayscale, etc)\n",
    "- Number of examples per label (some have more than others).\n",
    "- Generate fake data.\n",
    "\n",
    "Here is an example of a [published baseline model on this problem](http://yann.lecun.com/exdb/publis/pdf/sermanet-ijcnn-11.pdf). It's not required to be familiar with the approach used in the paper but, it's good practice to try to read papers like these.\n",
    "\n",
    "**NOTE:** The LeNet-5 implementation shown in the [classroom](https://classroom.udacity.com/nanodegrees/nd013/parts/fbf77062-5703-404e-b60c-95b78b2f3f9e/modules/6df7ae49-c61c-4bb2-a23e-6527e69209ec/lessons/601ae704-1035-4287-8b11-e2c2716217ad/concepts/d4aca031-508f-4e0b-b493-e7b706120f81) at the end of the CNN lesson is a solid starting point. You'll have to change the number of classes and possibly the preprocessing, but aside from that it's plug and play!"
   ]
  },
  {
   "cell_type": "markdown",
   "metadata": {
    "deletable": true,
    "editable": true
   },
   "source": [
    "### Modified LeNet Architecture With FeedForward and FeedBack Loops and Spatial Transform Based Architecture\n"
   ]
  },
  {
   "cell_type": "code",
   "execution_count": 2,
   "metadata": {
    "collapsed": false,
    "editable": true
   },
   "outputs": [],
   "source": [
    "tf.reset_default_graph()\n",
    "########## Graph Inputs #########################\n",
    "\n",
    "x = tf.placeholder(tf.float32, (None, 32, 32, 1))\n",
    "y = tf.placeholder(tf.int32, (None))\n",
    "num_classes=43\n",
    "reg_fac=tf.placeholder(tf.float32,None)\n",
    "rate=tf.placeholder(tf.float32,None)\n",
    "is_training=tf.placeholder(tf.bool,None)"
   ]
  },
  {
   "cell_type": "markdown",
   "metadata": {
    "collapsed": false
   },
   "source": [
    "### Basic Elements of the VGG Network\n",
    "- **Param Relu** For solving Dead Linear Rectifier issue during training\n",
    "- **Convolution Layer** With Parametric Relay Activation - Weights and Biases Initialization - Xavier Scheme\n",
    "- **Fully Connected Layer** With Fully Connected Dense Layers - Weights and Biases Initialization - Xavier Scheme\n",
    "- ** Pooling Layer** Max Pool 2D Operation"
   ]
  },
  {
   "cell_type": "code",
   "execution_count": 3,
   "metadata": {
    "collapsed": false
   },
   "outputs": [],
   "source": [
    "def parametric_relu(input_,name):\n",
    "    alpha = tf.get_variable(name=name+'_alpha', shape=input_.get_shape()[-1],initializer=tf.random_uniform_initializer(minval=0.1, maxval=0.3), dtype=tf.float32)\n",
    "    pos = tf.nn.relu(input_)\n",
    "    neg = alpha * (input_ - abs(input_)) * 0.5\n",
    "    return pos + neg\n",
    "\n",
    "def conv(input_, name, k1, k2, n_o, s1=1, s2=1):\n",
    "    n_i = input_.get_shape()[-1].value\n",
    "    with tf.variable_scope(name):\n",
    "        weights = tf.get_variable('weights', [k1, k2, n_i, n_o], tf.float32, xavier_initializer())\n",
    "        biases = tf.get_variable(\"bias\", [n_o], tf.float32, tf.constant_initializer(0.0))\n",
    "        conv = tf.nn.conv2d(input_, weights, (1, s1, s2, 1), padding='SAME')\n",
    "        activation = parametric_relu(tf.nn.bias_add(conv, biases),\"activation\")\n",
    "        return activation\n",
    "\n",
    "def fc(input_, name, n_o, is_tr, p_fc):\n",
    "    n_i = input_.get_shape()[-1].value\n",
    "    with tf.variable_scope(name):\n",
    "        weights = tf.get_variable('weights', [n_i, n_o], tf.float32, xavier_initializer())\n",
    "        biases = tf.get_variable(\"bias\", [n_o], tf.float32, tf.constant_initializer(0.0))\n",
    "        logits = tf.nn.bias_add(tf.matmul(input_, weights), biases)\n",
    "        logits = parametric_relu(logits, \"activation\")\n",
    "        return tf.cond(is_tr, lambda: tf.nn.dropout(logits, keep_prob = p_fc ), lambda: logits)\n",
    "\n",
    "def pool(input_, name, k1, k2, s1=2, s2=2):\n",
    "    return tf.nn.max_pool(input_,ksize=[1, k1, k2, 1],strides=[1, s1, s2, 1],padding='VALID',name=name)                             "
   ]
  },
  {
   "cell_type": "markdown",
   "metadata": {},
   "source": [
    "### VGG Layer\n",
    "- 2 Back to Back **Convolutions** of same Kernel Size and Strides and Padding as specified by the user\n",
    "- 1 **Pooling** Layer."
   ]
  },
  {
   "cell_type": "code",
   "execution_count": 4,
   "metadata": {
    "collapsed": true
   },
   "outputs": [],
   "source": [
    "def VGG_Layer(input_, name_, conv_size, pool_size, n_o, is_tr ,p_vgg):\n",
    "    \n",
    "    n_i = input_.get_shape()[-1].value\n",
    "    c_k1=conv_size\n",
    "    c_k2=conv_size \n",
    "    p_k1=pool_size\n",
    "    p_k2=pool_size\n",
    "    \n",
    "    ############## VGG Building Block ###############################\n",
    "    ############## 2 - Conv , 1- Pool ###############################\n",
    "    vgg = conv(input_, name=name_+\"conv1_1\", k1=c_k1, k2=c_k2, n_o=n_o)\n",
    "    vgg = conv(vgg, name=name_+\"conv1_2\", k1=c_k1, k2=c_k2, n_o=n_o)\n",
    "    vgg = pool(vgg, name=name_+\"pool1\", k1=p_k1, k2=p_k2)\n",
    "    vgg = tf.cond(is_tr, lambda: tf.nn.dropout(vgg, keep_prob = p_vgg ), lambda: vgg)\n",
    "    \n",
    "    return vgg"
   ]
  },
  {
   "cell_type": "markdown",
   "metadata": {},
   "source": [
    "### Model definition\n",
    "#### Number of Layers:\n",
    "- *3* **VGG** Layers\n",
    "    - First VGG Layer extracts 64 Feature Maps\n",
    "    - Second VGG Layer extracts 128 Feature Maps\n",
    "    - Third VGG Layer extracts 256 Feature Maps\n",
    "- *2* **FC** Layers\n",
    "    - Fully Connected Layers 512 Hidden Units\n",
    "    - To 43 Units dependent on the number of classes\n",
    "\n",
    "#### Reason for Choosing Architecture:\n",
    "- LeNet acrhitecture provides 96.5% test accuracy \n",
    "- To get the extra 2% accuracy on the model."
   ]
  },
  {
   "cell_type": "code",
   "execution_count": 5,
   "metadata": {
    "collapsed": false,
    "deletable": true,
    "editable": true,
    "scrolled": true
   },
   "outputs": [],
   "source": [
    "def run_model(input_, num_classes, params, is_training):\n",
    "    \n",
    "    ################################# VGG- Layer - 1 ##############################################\n",
    "    vgg1=VGG_Layer(input_, \"vgg1\", conv_size= 3, pool_size= 2, n_o=32, is_tr=is_training, p_vgg=params.vgg1)\n",
    "    \n",
    "    ################################# VGG- Layer - 2 ##############################################\n",
    "    vgg2=VGG_Layer(vgg1, \"vgg2\", conv_size= 3, pool_size= 2, n_o=64, is_tr=is_training, p_vgg=params.vgg2)\n",
    "    \n",
    "    ################################# VGG- Layer - 3 ##############################################\n",
    "    vgg3=VGG_Layer(vgg2, \"vgg3\", conv_size= 3, pool_size= 2, n_o=128, is_tr=is_training, p_vgg=params.vgg3)\n",
    "    \n",
    "    ################################# VGG- Layer - 4 ##############################################\n",
    "    vgg4=VGG_Layer(vgg3, \"vgg4\", conv_size= 3, pool_size= 2, n_o=256, is_tr=is_training, p_vgg=params.vgg4)\n",
    "    \n",
    "    \n",
    "    ######################## Multi Scale Convolutional Output concatenation #################\n",
    "    msc1= pool(vgg1, \"msc1\", k1=8, k2=8)\n",
    "    msc2= pool(vgg2, \"msc2\", k1=4, k2=4)\n",
    "    msc3= pool(vgg3, \"msc3\", k1=2, k2=2)\n",
    "    msc= tf.concat((flatten(msc1),flatten(msc2),flatten(msc3), flatten(vgg4)),1)\n",
    "    \n",
    "    ################## Fully Connected Layers for a Linear Classifier ###########################    \n",
    "    #############################First Fully Connected Layer ##################################\n",
    "    fc0=fc(msc,\"fc0\", 1024,  is_tr=is_training, p_fc=params.fc0)\n",
    "    fc1=fc(fc0,\"fc1\", 512, is_tr=is_training, p_fc=params.fc1)\n",
    "  \n",
    "    ########################### Second fully Connected Layer ##################################\n",
    "    fc2=fc(fc1,\"fc2\",num_classes, is_tr=is_training, p_fc=1.0)\n",
    "    \n",
    "    return fc2"
   ]
  },
  {
   "cell_type": "markdown",
   "metadata": {
    "deletable": true,
    "editable": true
   },
   "source": [
    "### Model Building with Hyper_params"
   ]
  },
  {
   "cell_type": "code",
   "execution_count": 6,
   "metadata": {
    "collapsed": false,
    "deletable": true,
    "editable": true
   },
   "outputs": [],
   "source": [
    "params = namedtuple('params','vgg1 vgg2 vgg3 vgg4 fc0 fc1')\n",
    "mdltype=params(vgg1=.45 ,vgg2=.45 ,vgg3=.45 ,vgg4=0.45, fc0=0.35, fc1=0.3)\n",
    "\n",
    "\n",
    "logits=run_model(x, num_classes, mdltype, is_training)\n",
    "one_hot_y = tf.one_hot(y, num_classes)\n",
    "\n",
    "###For Top 5 Guesses \n",
    "prediction = tf.nn.softmax(logits)\n",
    "top5_guesses= tf.nn.top_k(prediction, k=5, sorted=True)\n",
    "########### Predicted Label and Actual Label using Argmax\n",
    "y_pred= tf.argmax(logits, 1)\n",
    "y_act=tf.argmax(one_hot_y, 1)\n",
    "\n",
    "\n",
    "########## Accuracy Calculation \n",
    "correct_prediction = tf.equal(y_pred,y_act)\n",
    "accuracy_operation = tf.reduce_mean(tf.cast(correct_prediction, tf.float32))\n",
    "\n",
    "######### Cross Entropy and Loss for Training ##########\n",
    "cross_entropy = tf.nn.softmax_cross_entropy_with_logits(logits=logits, labels=one_hot_y)\n",
    "\n",
    "################### L2 Regularization ######################\n",
    "vars_   = tf.trainable_variables()\n",
    "lossL2 = tf.reduce_mean([tf.nn.l2_loss(v) for v in vars_ if 'bias' not in v.name ])\n",
    "\n",
    "loss_operation = tf.reduce_mean(cross_entropy) + lossL2*reg_fac\n",
    "\n",
    "########### Training Step ################\n",
    "Train_Step = tf.train.AdamOptimizer(rate).minimize(loss_operation)\n"
   ]
  },
  {
   "cell_type": "code",
   "execution_count": 7,
   "metadata": {
    "collapsed": true
   },
   "outputs": [],
   "source": [
    "def evaluate(X_data,y_data,batch_size,is_tr):\n",
    "    num_examples = len(X_data)\n",
    "    total_accuracy = 0\n",
    "    sess = tf.get_default_session()\n",
    "    for offset in range(0, num_examples, batch_size):\n",
    "        bx, by = X_data[offset:offset+batch_size], y_data[offset:offset+batch_size]\n",
    "        inputs_ = {x: bx, y: by, is_training:is_tr}\n",
    "        accuracy = sess.run(accuracy_operation, feed_dict=inputs_)\n",
    "        total_accuracy += (accuracy * len(bx))\n",
    "    return total_accuracy / num_examples\n",
    "\n",
    "    \n",
    "class StatLogger:\n",
    "    \"\"\"\n",
    "    file writer to record various statistics\n",
    "    \"\"\"\n",
    "\n",
    "    def __init__(self, fpath):\n",
    "        import os\n",
    "        import os.path as pth\n",
    "\n",
    "        self.fpath = fpath\n",
    "        fdir = pth.split(fpath)[0]\n",
    "        if len(fdir) > 0 and not pth.exists(fdir):\n",
    "            os.makedirs(fdir)\n",
    "\n",
    "\n",
    "    def report(self, step, **kwargs):\n",
    "        import json\n",
    "        with open(self.fpath, \"a\") as fh:\n",
    "            data = {\n",
    "                \"step\": step\n",
    "            }\n",
    "            data.update(kwargs)\n",
    "            fh.write(json.dumps(data) + \"\\n\")\n",
    "            \n"
   ]
  },
  {
   "cell_type": "markdown",
   "metadata": {
    "deletable": true,
    "editable": true
   },
   "source": [
    "### Model Hyper Parameter Definition\n",
    "- The Hyper Parameters are chosen based on search over 5 epochs\n",
    "#### Tuning Methodology\n",
    "\n",
    "- Xavier Initialization\n",
    "- **Early Stopping** - Restore Chkpt if the accuracy gains in validation don't meet requirements\n",
    "- **Hyper Parameter** Search over 5 Epcochs for Initial Tuning Hyper Params for best choice of hyper params \n",
    "    - Batch Sizes-100,200,300,500\n",
    "    - Learning rates- 1e-3,5e-4,4e-4,1e-4\n",
    "    - Regularization factor 1e-5,1e-4, 5e-4\n",
    "- **Learning rate annealing**,  **Batch size increment**, **Increase dropout rate**"
   ]
  },
  {
   "cell_type": "code",
   "execution_count": 8,
   "metadata": {
    "collapsed": false
   },
   "outputs": [],
   "source": [
    "BATCH_SIZE=300\n",
    "EPOCHS=20\n",
    "REG_FACTOR=1e-5\n",
    "RATE=2e-4\n",
    "save_file=\"VGGNet_260320171\"\n",
    "chkpt = './'+ save_file"
   ]
  },
  {
   "cell_type": "code",
   "execution_count": null,
   "metadata": {
    "collapsed": false,
    "deletable": true,
    "editable": true,
    "scrolled": false
   },
   "outputs": [
    {
     "name": "stdout",
     "output_type": "stream",
     "text": [
      "Training...\n",
      "\n"
     ]
    },
    {
     "name": "stderr",
     "output_type": "stream",
     "text": [
      " 38%|███▊      | 285/748 [01:33<02:25,  3.18it/s]"
     ]
    }
   ],
   "source": [
    "init = tf.global_variables_initializer()\n",
    "sess = tf.Session()\n",
    "\n",
    "saver = tf.train.Saver()\n",
    "log=StatLogger(chkpt)\n",
    "with sess.as_default():\n",
    "#     sess.run(init)\n",
    "    ##################  Start Model Training  #######################\n",
    "    saver.restore(sess, chkpt)\n",
    "    print(\"Training...\")\n",
    "    print()\n",
    "    for i in range(EPOCHS):\n",
    "        ############ Training Operation ################\n",
    "        Training_loss=0\n",
    "        X_train, y_train = shuffle(X_train, y_train)\n",
    "        for offset in trange(0, len(X_train), BATCH_SIZE):\n",
    "            end = offset + BATCH_SIZE\n",
    "            batch_x, batch_y = X_train[offset:end], y_train[offset:end]\n",
    "            inputs = {x: batch_x, y: batch_y, reg_fac:REG_FACTOR, rate:RATE, is_training:True}\n",
    "            loss,_= sess.run([loss_operation, Train_Step], feed_dict=inputs)\n",
    "            Training_loss += (loss * len(batch_x))\n",
    "\n",
    "        \n",
    "        Validation_Accuracy=evaluate(X_valid,y_valid,1000,is_tr=False)\n",
    "        Training_loss/=len(X_train)\n",
    "        print(\"Epochs:\",i+1)\n",
    "        print(\"Training_Loss:\", Training_loss)\n",
    "        print(\"Validation_Accuracy:\", Validation_Accuracy)\n",
    "        if not(i%5):\n",
    "            saver.save(sess, chkpt+\"_epoch\"+str(i+1))\n",
    "            print(\"Intermediate Model Save\")\n",
    "              \n",
    "# ####### Save Weights #####################\n",
    "saver.save(sess, chkpt)    \n",
    "print(\"Model saved\")"
   ]
  },
  {
   "cell_type": "markdown",
   "metadata": {
    "deletable": true,
    "editable": true
   },
   "source": [
    "### Train, Validate and Test the Model"
   ]
  },
  {
   "cell_type": "markdown",
   "metadata": {
    "deletable": true,
    "editable": true
   },
   "source": [
    "A validation set can be used to assess how well the model is performing. A low accuracy on the training and validation\n",
    "sets imply underfitting. A high accuracy on the training set but low accuracy on the validation set implies overfitting."
   ]
  },
  {
   "cell_type": "code",
   "execution_count": null,
   "metadata": {
    "collapsed": false
   },
   "outputs": [],
   "source": [
    "from sklearn.metrics import classification_report\n",
    "from sklearn.metrics import confusion_matrix\n",
    "saver=tf.train.Saver()\n",
    "with tf.Session() as sess:\n",
    "    saver.restore(sess, chkpt)\n",
    "    test_accuracy = evaluate(X_test, y_test, 500, False)\n",
    "    print(\"Test Accuracy = {:.3f}\".format(test_accuracy))"
   ]
  },
  {
   "cell_type": "code",
   "execution_count": null,
   "metadata": {
    "collapsed": false
   },
   "outputs": [],
   "source": [
    "import matplotlib.gridspec as gridspec\n",
    "from skimage import exposure\n",
    "from skimage import img_as_ubyte\n",
    "from skimage import img_as_float\n",
    "import matplotlib.pyplot as plt\n",
    "import cv2\n",
    "import numpy as np\n",
    "import os\n",
    "\n",
    "def image_normalizer(X):\n",
    "\n",
    "    n_samples=X.shape[0]\n",
    "    n_h=X.shape[1]\n",
    "    n_w=X.shape[2]\n",
    "    \n",
    "    print(\"Normalizing:\")\n",
    "    #Convert to grayscale, e.g. single Y channel\n",
    "    X = 0.299 * X[:, :, :, 0] + 0.587 * X[:, :, :, 1] + 0.114 * X[:, :, :, 2]\n",
    "\n",
    "\n",
    "    print(\"Center and Normalization Global Mean STDEV\")\n",
    "    ##### Center the Dataset around the Mean \n",
    "    X_f=np.reshape(X,(n_samples,-1))\n",
    "    X_c=scale(X_f)\n",
    "    X_lcr= np.reshape(X_c,(n_samples,n_h,n_w))\n",
    "    \n",
    "    print(\"Center , Normalization, Scale Local Image Mean\")\n",
    "    ##### Center the Image around the Mean\n",
    "    X_lc = np.array([scale(img) for img in X_lcr])\n",
    "    X_sc = np.array([minmax_scale(img,feature_range=(-1,1)) for img in X_lc])\n",
    "    X_r = np.reshape(X_sc,(n_samples,n_h,n_w,-1))\n",
    "    \n",
    "    return X_r.astype(np.float32)\n",
    "\n",
    "def show_Images(n_row,n_col,X):\n",
    "    \n",
    "    disp_im=X\n",
    "    num_rows = n_row\n",
    "    num_cols = n_col\n",
    "    \n",
    "    plt.figure(figsize=(7,7))\n",
    "    gs = gridspec.GridSpec(num_rows, num_cols, wspace=1.0)\n",
    "    ax = [plt.subplot(gs[i]) for i in range(num_rows*num_cols)]\n",
    "    for index,index_im in enumerate(disp_im):\n",
    "        ax[index].imshow(index_im,cmap='gray')\n",
    "        ax[index].axis('off')\n",
    "    plt.show()\n",
    "    \n",
    "    \n",
    "def visualize_predictions(images,image_names,top5_pred):\n",
    "    df=pd.read_csv('./'+'signnames.csv')\n",
    "    for i in range(len(images)):\n",
    "        plt.figure(figsize = (5,1.5))\n",
    "        gs = gridspec.GridSpec(1, 2,width_ratios=[2,3])\n",
    "        plt.subplot(gs[0])\n",
    "        plt.imshow(images[i])\n",
    "        plt.axis('off')\n",
    "        plt.subplot(gs[1])\n",
    "        plt.barh(6-np.arange(5),top5_pred[0][0], align='center')\n",
    "        for i_label in range(5):\n",
    "            plt.text(top5_pred[0][0][i_label]+0.1,6-i_label-.25, df['SignName'][top5_pred[1][i][i_label]])\n",
    "        plt.axis('off');\n",
    "        plt.text(0,6.95,image_names[i].split('.')[0])\n",
    "        plt.show()    \n"
   ]
  },
  {
   "cell_type": "code",
   "execution_count": null,
   "metadata": {
    "collapsed": false
   },
   "outputs": [],
   "source": [
    "###### Load Model and Open \n",
    "def run_model(images,image_names):\n",
    "    saver=tf.train.Saver()\n",
    "    with tf.Session() as sess:\n",
    "        saver.restore(sess, tf.train.latest_checkpoint('.'))\n",
    "        top5_pred = sess.run(top5_guesses, feed_dict={x:images,keep_prob: 1.0})\n",
    "        print(top5_pred)\n",
    "    visualize_predictions(images,image_names,top5_pred)\n",
    "\n",
    "def test_classifier(img_path):\n",
    "    randomtestdata = [image_normalizer(img_path+name) for name in os.listdir(img_path) if name.endswith('.png')]\n",
    "    namenewdata = [name for name in os.listdir(img_path) if name.endswith('.png')]\n",
    "    rndtestint = img_as_float(randomtestdata)\n",
    "    show_Images(1,len(namenewdata),rndtestint)\n",
    "    run_model(rndtestint,namenewdata)"
   ]
  },
  {
   "cell_type": "markdown",
   "metadata": {
    "deletable": true,
    "editable": true
   },
   "source": [
    "---\n",
    "\n",
    "## Step 3: Test a Model on New Images\n",
    "\n",
    "To give yourself more insight into how your model is working, download at least five pictures of German traffic signs from the web and use your model to predict the traffic sign type.\n",
    "\n",
    "You may find `signnames.csv` useful as it contains mappings from the class id (integer) to the actual sign name."
   ]
  },
  {
   "cell_type": "markdown",
   "metadata": {
    "deletable": true,
    "editable": true
   },
   "source": [
    "### Load and Output the Images"
   ]
  },
  {
   "cell_type": "markdown",
   "metadata": {
    "deletable": true,
    "editable": true
   },
   "source": [
    "### Predict the Sign Type for Each Image"
   ]
  },
  {
   "cell_type": "code",
   "execution_count": null,
   "metadata": {
    "collapsed": false
   },
   "outputs": [],
   "source": [
    "### Define Path of Test Images\n",
    "image_path =\"./Test_images/\"\n",
    "test_classifier(image_path)"
   ]
  },
  {
   "cell_type": "markdown",
   "metadata": {},
   "source": [
    "## Visualize the top 5 predictions\n",
    "### The concept of Visualization is borrowed from Vivek Yadav - Who has intelligently used matplot lib to view the top 5 predictions"
   ]
  },
  {
   "cell_type": "markdown",
   "metadata": {
    "deletable": true,
    "editable": true
   },
   "source": [
    "## Other Images that are not from the GTSRB \n",
    "### Similar but color difference based Images"
   ]
  },
  {
   "cell_type": "code",
   "execution_count": null,
   "metadata": {
    "collapsed": false,
    "deletable": true,
    "editable": true
   },
   "outputs": [],
   "source": [
    "otherimage_path =\"./OtherSigns/\"\n",
    "test_classifier(otherimage_path)"
   ]
  },
  {
   "cell_type": "markdown",
   "metadata": {
    "deletable": true,
    "editable": true
   },
   "source": [
    "For each of the new images, print out the model's softmax probabilities to show the **certainty** of the model's predictions (limit the output to the top 5 probabilities for each image). [`tf.nn.top_k`](https://www.tensorflow.org/versions/r0.12/api_docs/python/nn.html#top_k) could prove helpful here. \n",
    "\n",
    "The example below demonstrates how tf.nn.top_k can be used to find the top k predictions for each image.\n",
    "\n",
    "`tf.nn.top_k` will return the values and indices (class ids) of the top k predictions. So if k=3, for each sign, it'll return the 3 largest probabilities (out of a possible 43) and the correspoding class ids.\n",
    "\n",
    "Take this numpy array as an example. The values in the array represent predictions. The array contains softmax probabilities for five candidate images with six possible classes. `tk.nn.top_k` is used to choose the three classes with the highest probability:\n",
    "\n",
    "```\n",
    "# (5, 6) array\n",
    "a = np.array([[ 0.24879643,  0.07032244,  0.12641572,  0.34763842,  0.07893497,\n",
    "         0.12789202],\n",
    "       [ 0.28086119,  0.27569815,  0.08594638,  0.0178669 ,  0.18063401,\n",
    "         0.15899337],\n",
    "       [ 0.26076848,  0.23664738,  0.08020603,  0.07001922,  0.1134371 ,\n",
    "         0.23892179],\n",
    "       [ 0.11943333,  0.29198961,  0.02605103,  0.26234032,  0.1351348 ,\n",
    "         0.16505091],\n",
    "       [ 0.09561176,  0.34396535,  0.0643941 ,  0.16240774,  0.24206137,\n",
    "         0.09155967]])\n",
    "```\n",
    "\n",
    "Running it through `sess.run(tf.nn.top_k(tf.constant(a), k=3))` produces:\n",
    "\n",
    "```\n",
    "TopKV2(values=array([[ 0.34763842,  0.24879643,  0.12789202],\n",
    "       [ 0.28086119,  0.27569815,  0.18063401],\n",
    "       [ 0.26076848,  0.23892179,  0.23664738],\n",
    "       [ 0.29198961,  0.26234032,  0.16505091],\n",
    "       [ 0.34396535,  0.24206137,  0.16240774]]), indices=array([[3, 0, 5],\n",
    "       [0, 1, 4],\n",
    "       [0, 5, 1],\n",
    "       [1, 3, 5],\n",
    "       [1, 4, 3]], dtype=int32))\n",
    "```\n",
    "\n",
    "Looking just at the first row we get `[ 0.34763842,  0.24879643,  0.12789202]`, you can confirm these are the 3 largest probabilities in `a`. You'll also notice `[3, 0, 5]` are the corresponding indices."
   ]
  },
  {
   "cell_type": "markdown",
   "metadata": {
    "deletable": true,
    "editable": true
   },
   "source": [
    "---\n",
    "\n",
    "## Step 4: Visualize the Neural Network's State with Test Images\n",
    "\n",
    " This Section is not required to complete but acts as an additional excersise for understaning the output of a neural network's weights. While neural networks can be a great learning device they are often referred to as a black box. We can understand what the weights of a neural network look like better by plotting their feature maps. After successfully training your neural network you can see what it's feature maps look like by plotting the output of the network's weight layers in response to a test stimuli image. From these plotted feature maps, it's possible to see what characteristics of an image the network finds interesting. For a sign, maybe the inner network feature maps react with high activation to the sign's boundary outline or to the contrast in the sign's painted symbol.\n",
    "\n",
    " Provided for you below is the function code that allows you to get the visualization output of any tensorflow weight layer you want. The inputs to the function should be a stimuli image, one used during training or a new one you provided, and then the tensorflow variable name that represents the layer's state during the training process, for instance if you wanted to see what the [LeNet lab's](https://classroom.udacity.com/nanodegrees/nd013/parts/fbf77062-5703-404e-b60c-95b78b2f3f9e/modules/6df7ae49-c61c-4bb2-a23e-6527e69209ec/lessons/601ae704-1035-4287-8b11-e2c2716217ad/concepts/d4aca031-508f-4e0b-b493-e7b706120f81) feature maps looked like for it's second convolutional layer you could enter conv2 as the tf_activation variable.\n",
    "\n",
    "For an example of what feature map outputs look like, check out NVIDIA's results in their paper [End-to-End Deep Learning for Self-Driving Cars](https://devblogs.nvidia.com/parallelforall/deep-learning-self-driving-cars/) in the section Visualization of internal CNN State. NVIDIA was able to show that their network's inner weights had high activations to road boundary lines by comparing feature maps from an image with a clear path to one without. Try experimenting with a similar test to show that your trained network's weights are looking for interesting features, whether it's looking at differences in feature maps from images with or without a sign, or even what feature maps look like in a trained network vs a completely untrained one on the same sign image.\n",
    "\n",
    "<figure>\n",
    " <img src=\"visualize_cnn.png\" width=\"380\" alt=\"Combined Image\" />\n",
    " <figcaption>\n",
    " <p></p> \n",
    " <p style=\"text-align: center;\"> Your output should look something like this (above)</p> \n",
    " </figcaption>\n",
    "</figure>\n",
    " <p></p> \n"
   ]
  },
  {
   "cell_type": "code",
   "execution_count": null,
   "metadata": {
    "collapsed": false,
    "deletable": true,
    "editable": true
   },
   "outputs": [],
   "source": [
    "### Visualize your network's feature maps here.\n",
    "### Feel free to use as many code cells as needed.\n",
    "\n",
    "# image_input: the test image being fed into the network to produce the feature maps\n",
    "# tf_activation: should be a tf variable name used during your training procedure that represents the calculated state of a specific weight layer\n",
    "# activation_min/max: can be used to view the activation contrast in more detail, by default matplot sets min and max to the actual min and max values of the output\n",
    "# plt_num: used to plot out multiple different weight feature map sets on the same block, just extend the plt number for each new feature map entry\n",
    "\n",
    "image_path='./Test_images/SpeedLimit80kmph.png'\n",
    "image=image_normalizer(image_path)\n",
    "\n",
    "\n",
    "def outputFeatureMap(image_input, tf_activation, chkpt, activation_min=-1, activation_max=-1 ,plt_num=1):\n",
    "    # Here make sure to preprocess your image_input in a way your network expects\n",
    "    # with size, normalization, ect if needed\n",
    "    # image_input =\n",
    "    # Note: x should be the same name as your network's tensorflow data placeholder variable\n",
    "    # If you get an error tf_activation is not defined it maybe having trouble accessing the variable from inside a function\n",
    "    with tf.Session() as sess:\n",
    "        saver.restore(sess, chkpt)\n",
    "        image_reshape=np.expand_dims(image_input,axis=0)\n",
    "        activation = tf_activation.eval(session=sess,feed_dict={x : image_reshape})\n",
    "        featuremaps = activation.shape[3]\n",
    "        plt.figure(plt_num, figsize=(30,25))\n",
    "        for featuremap in range(featuremaps):\n",
    "            plt.subplot(8,8, featuremap+1) # sets the number of feature maps to show on each row and column\n",
    "            plt.title('FeatureMap ' + str(featuremap)) # displays the feature map number\n",
    "            if activation_min != -1 & activation_max != -1:\n",
    "                plt.imshow(activation[0,:,:, featuremap], interpolation=\"nearest\", vmin =activation_min, vmax=activation_max, cmap=\"gray\")\n",
    "            elif activation_max != -1:\n",
    "                plt.imshow(activation[0,:,:, featuremap], interpolation=\"nearest\", vmax=activation_max, cmap=\"gray\")\n",
    "            elif activation_min !=-1:\n",
    "                plt.imshow(activation[0,:,:, featuremap], interpolation=\"nearest\", vmin=activation_min, cmap=\"gray\")\n",
    "            else:\n",
    "                plt.imshow(activation[0,:,:, featuremap], interpolation=\"nearest\", cmap=\"gray\")\n",
    "            "
   ]
  },
  {
   "cell_type": "code",
   "execution_count": null,
   "metadata": {
    "collapsed": false
   },
   "outputs": [],
   "source": [
    "outputFeatureMap(image,vgg1,chkpt)"
   ]
  },
  {
   "cell_type": "markdown",
   "metadata": {
    "deletable": true,
    "editable": true
   },
   "source": [
    "### Question 9\n",
    "\n",
    "Discuss how you used the visual output of your trained network's feature maps to show that it had learned to look for interesting characteristics in traffic sign images\n"
   ]
  },
  {
   "cell_type": "markdown",
   "metadata": {
    "deletable": true,
    "editable": true
   },
   "source": [
    "**Answer:**"
   ]
  },
  {
   "cell_type": "markdown",
   "metadata": {
    "deletable": true,
    "editable": true
   },
   "source": [
    "> **Note**: Once you have completed all of the code implementations and successfully answered each question above, you may finalize your work by exporting the iPython Notebook as an HTML document. You can do this by using the menu above and navigating to  \\n\",\n",
    "    \"**File -> Download as -> HTML (.html)**. Include the finished document along with this notebook as your submission."
   ]
  },
  {
   "cell_type": "markdown",
   "metadata": {
    "deletable": true,
    "editable": true
   },
   "source": [
    "### Project Writeup\n",
    "\n",
    "Once you have completed the code implementation, document your results in a project writeup using this [template](https://github.com/udacity/CarND-Traffic-Sign-Classifier-Project/blob/master/writeup_template.md) as a guide. The writeup can be in a markdown or pdf file. "
   ]
  }
 ],
 "metadata": {
  "anaconda-cloud": {},
  "kernelspec": {
   "display_name": "Python 3",
   "language": "python",
   "name": "python3"
  },
  "language_info": {
   "codemirror_mode": {
    "name": "ipython",
    "version": 3
   },
   "file_extension": ".py",
   "mimetype": "text/x-python",
   "name": "python",
   "nbconvert_exporter": "python",
   "pygments_lexer": "ipython3",
   "version": "3.5.3"
  },
  "widgets": {
   "state": {},
   "version": "1.1.2"
  }
 },
 "nbformat": 4,
 "nbformat_minor": 1
}
